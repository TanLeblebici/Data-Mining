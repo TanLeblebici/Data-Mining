{
 "cells": [
  {
   "cell_type": "markdown",
   "id": "17a070f1",
   "metadata": {},
   "source": [
    "# Exhaustive Search"
   ]
  },
  {
   "cell_type": "code",
   "execution_count": null,
   "id": "b6501c12",
   "metadata": {},
   "outputs": [],
   "source": [
    "import pandas as pd\n",
    "\n",
    "from sklearn.ensemble import RandomForestRegressor, RandomForestClassifier\n",
    "from sklearn.metrics import roc_auc_score, r2_score\n",
    "from sklearn.model_selection import train_test_split\n",
    "\n",
    "from mlxtend.feature_selection import ExhaustiveFeatureSelector as EFS"
   ]
  },
  {
   "cell_type": "code",
   "execution_count": null,
   "id": "1000bf5f",
   "metadata": {},
   "outputs": [],
   "source": [
    "dataset1 = pd.read_csv(\"dataset_2.csv\",nrows=10000)\n",
    "dataset2 = pd.read_csv(\"housing.csv\")"
   ]
  },
  {
   "cell_type": "markdown",
   "id": "9e35439d",
   "metadata": {},
   "source": [
    "## Seperate to train - test sets"
   ]
  },
  {
   "cell_type": "code",
   "execution_count": null,
   "id": "29521892",
   "metadata": {},
   "outputs": [],
   "source": [
    "# Keep only numerical Variables in the second dataset\n",
    "numerics = ['int64', 'float64']\n",
    "numerical_vars = list(dataset2.select_dtypes(include=numerics).columns)\n",
    "dataset2 = dataset2[numerical_vars]"
   ]
  },
  {
   "cell_type": "code",
   "execution_count": null,
   "id": "0369c4be",
   "metadata": {},
   "outputs": [],
   "source": [
    "# Separate features and target variables for both datasets\n",
    "\n",
    "fs1 = dataset1.drop(labels=['target'], axis=1) # Features for dataset1\n",
    "fs2 = dataset2.drop(labels=['SalePrice'], axis=1) # Features for dataset2\n",
    "\n",
    "dv1 = dataset1['target'] # Target variable for dataset1\n",
    "dv2 = dataset2['SalePrice'] # Target variable for dataset2\n",
    "\n",
    "# Split dataset1 into training and testing sets\n",
    "x_train, x_test, y_train, y_test = train_test_split(fs1, \n",
    "                                                    dv1, \n",
    "                                                    test_size=0.3, \n",
    "                                                    random_state=0)\n",
    "\n",
    "# Split dataset2 into training and testing sets\n",
    "x_train2, x_test2, y_train2, y_test2 = train_test_split(fs2, \n",
    "                                                        dv2, \n",
    "                                                        test_size=0.3, \n",
    "                                                        random_state=0)"
   ]
  },
  {
   "cell_type": "code",
   "execution_count": null,
   "id": "e7ad14a4",
   "metadata": {},
   "outputs": [],
   "source": [
    "# Handle missing values by filling values with 0\n",
    "x_train2.fillna(0, inplace=True)\n",
    "x_test2.fillna(0, inplace=True)"
   ]
  },
  {
   "cell_type": "markdown",
   "id": "183b1ac9",
   "metadata": {},
   "source": [
    "## Exhaustive Feature Selection"
   ]
  },
  {
   "cell_type": "code",
   "execution_count": null,
   "id": "819d1502",
   "metadata": {},
   "outputs": [],
   "source": [
    "# Initialize Exhaustive Feature Selector for classification task\n",
    "efs = EFS(RandomForestClassifier(n_estimators=5,\n",
    "                                 n_jobs=4,\n",
    "                                 random_state=0,\n",
    "                                 max_depth=2),\n",
    "          min_features=1,\n",
    "          \n",
    "          max_features=2,\n",
    "          scoring='accuracy',\n",
    "          print_progress=False,\n",
    "          cv=2)\n",
    "\n",
    "# Perform feature selection\n",
    "efs = efs.fit(x_train, y_train)"
   ]
  },
  {
   "cell_type": "code",
   "execution_count": null,
   "id": "9001a9d1",
   "metadata": {},
   "outputs": [],
   "source": [
    "efs.best_idx_"
   ]
  },
  {
   "cell_type": "code",
   "execution_count": null,
   "id": "03c0dbdd",
   "metadata": {},
   "outputs": [],
   "source": [
    "# Get the index of best features\n",
    "selected_feature = x_train.columns[list(efs.best_idx_)]"
   ]
  },
  {
   "cell_type": "code",
   "execution_count": null,
   "id": "a3af7821",
   "metadata": {},
   "outputs": [],
   "source": [
    "selected_feature"
   ]
  },
  {
   "cell_type": "code",
   "execution_count": null,
   "id": "156ce572",
   "metadata": {
    "scrolled": true
   },
   "outputs": [],
   "source": [
    "# Initialize Exhaustive Feature Selector for regression task\n",
    "efs = EFS(RandomForestRegressor(n_estimators=5,\n",
    "                                n_jobs=4,\n",
    "                                random_state=0,\n",
    "                                max_depth=2),\n",
    "          min_features=1,\n",
    "          max_features=3,\n",
    "          scoring='r2',\n",
    "          print_progress=True,\n",
    "          cv=2)\n",
    "\n",
    "# Perform feature selection\n",
    "efs = efs.fit(x_train2, y_train2)"
   ]
  },
  {
   "cell_type": "code",
   "execution_count": null,
   "id": "a5244549",
   "metadata": {},
   "outputs": [],
   "source": [
    "efs.best_idx_"
   ]
  },
  {
   "cell_type": "code",
   "execution_count": null,
   "id": "6fe9bf3d",
   "metadata": {},
   "outputs": [],
   "source": [
    "x_train2.columns[list(efs.best_idx_)]"
   ]
  }
 ],
 "metadata": {
  "kernelspec": {
   "display_name": "Python 3 (ipykernel)",
   "language": "python",
   "name": "python3"
  },
  "language_info": {
   "codemirror_mode": {
    "name": "ipython",
    "version": 3
   },
   "file_extension": ".py",
   "mimetype": "text/x-python",
   "name": "python",
   "nbconvert_exporter": "python",
   "pygments_lexer": "ipython3",
   "version": "3.9.13"
  }
 },
 "nbformat": 4,
 "nbformat_minor": 5
}
