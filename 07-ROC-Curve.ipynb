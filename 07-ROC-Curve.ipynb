{
 "cells": [
  {
   "cell_type": "markdown",
   "id": "96e00416",
   "metadata": {},
   "source": [
    "## Importing libraries"
   ]
  },
  {
   "cell_type": "code",
   "execution_count": 37,
   "id": "42984457",
   "metadata": {},
   "outputs": [],
   "source": [
    "from sklearn.datasets import make_classification\n",
    "import pandas as pd\n",
    "import numpy as np\n",
    "from sklearn.preprocessing import MinMaxScaler\n",
    "from sklearn.impute import SimpleImputer\n",
    "from sklearn.model_selection import train_test_split\n",
    "from sklearn.ensemble import RandomForestClassifier\n",
    "from sklearn.naive_bayes import GaussianNB\n",
    "from sklearn.metrics import roc_curve, roc_auc_score\n",
    "import matplotlib.pyplot as plt"
   ]
  },
  {
   "cell_type": "code",
   "execution_count": 2,
   "id": "86aeeda7",
   "metadata": {},
   "outputs": [],
   "source": [
    "X, y = make_classification(n_samples = 2000,\n",
    "                           n_features = 2010, \n",
    "                           n_informative = 10, \n",
    "                           n_redundant = 0)"
   ]
  },
  {
   "cell_type": "code",
   "execution_count": 3,
   "id": "fd2f1a89",
   "metadata": {},
   "outputs": [],
   "source": [
    "informative_features = ['age', 'income', 'blood_pressure', 'cholesterol_level', 'BMI', 'glucose_level', 'heart_rate', 'body_fat', 'genetic_risk', 'exercis_intensity']\n",
    "noisy_features = [f'noise_feature_{i}' for i in range(X.shape[1] - len(informative_features))]\n",
    "column_names = informative_features + noisy_features"
   ]
  },
  {
   "cell_type": "code",
   "execution_count": 4,
   "id": "3285f9f8",
   "metadata": {},
   "outputs": [],
   "source": [
    "features_df = pd.DataFrame(X, columns = column_names)"
   ]
  },
  {
   "cell_type": "code",
   "execution_count": 7,
   "id": "adb451fc",
   "metadata": {},
   "outputs": [],
   "source": [
    "scaler = MinMaxScaler(feature_range = (0,1))\n",
    "features_df = pd.DataFrame(scaler.fit_transform(features_df), columns = features_df.columns)"
   ]
  },
  {
   "cell_type": "markdown",
   "id": "f1ebb032",
   "metadata": {},
   "source": [
    "## Introduce missing values"
   ]
  },
  {
   "cell_type": "code",
   "execution_count": 9,
   "id": "b796cdf6",
   "metadata": {},
   "outputs": [],
   "source": [
    "for column in features_df.columns:\n",
    "    missin_fraction = np.random.uniform(0.02, 0.15)\n",
    "    features_df.loc[features_df.sample(frac = missin_fraction, random_state = 42).index, column] = np.nan"
   ]
  },
  {
   "cell_type": "code",
   "execution_count": 10,
   "id": "4e8015fd",
   "metadata": {},
   "outputs": [],
   "source": [
    "missing_values_count = features_df.isna().sum()"
   ]
  },
  {
   "cell_type": "code",
   "execution_count": 11,
   "id": "c9d570cd",
   "metadata": {},
   "outputs": [
    {
     "data": {
      "text/plain": [
       "age                   11.25\n",
       "income                 7.65\n",
       "blood_pressure         5.00\n",
       "cholesterol_level      7.45\n",
       "BMI                   12.10\n",
       "                      ...  \n",
       "noise_feature_1995     6.70\n",
       "noise_feature_1996    12.35\n",
       "noise_feature_1997     9.00\n",
       "noise_feature_1998    14.30\n",
       "noise_feature_1999     8.70\n",
       "Length: 2010, dtype: float64"
      ]
     },
     "execution_count": 11,
     "metadata": {},
     "output_type": "execute_result"
    }
   ],
   "source": [
    "percentage = missing_values_count * 100 / features_df.shape[0]\n",
    "percentage"
   ]
  },
  {
   "cell_type": "code",
   "execution_count": 12,
   "id": "fe97710a",
   "metadata": {},
   "outputs": [
    {
     "data": {
      "text/html": [
       "<div>\n",
       "<style scoped>\n",
       "    .dataframe tbody tr th:only-of-type {\n",
       "        vertical-align: middle;\n",
       "    }\n",
       "\n",
       "    .dataframe tbody tr th {\n",
       "        vertical-align: top;\n",
       "    }\n",
       "\n",
       "    .dataframe thead th {\n",
       "        text-align: right;\n",
       "    }\n",
       "</style>\n",
       "<table border=\"1\" class=\"dataframe\">\n",
       "  <thead>\n",
       "    <tr style=\"text-align: right;\">\n",
       "      <th></th>\n",
       "      <th>age</th>\n",
       "      <th>income</th>\n",
       "      <th>blood_pressure</th>\n",
       "      <th>cholesterol_level</th>\n",
       "      <th>BMI</th>\n",
       "      <th>glucose_level</th>\n",
       "      <th>heart_rate</th>\n",
       "      <th>body_fat</th>\n",
       "      <th>genetic_risk</th>\n",
       "      <th>exercis_intensity</th>\n",
       "      <th>...</th>\n",
       "      <th>noise_feature_1991</th>\n",
       "      <th>noise_feature_1992</th>\n",
       "      <th>noise_feature_1993</th>\n",
       "      <th>noise_feature_1994</th>\n",
       "      <th>noise_feature_1995</th>\n",
       "      <th>noise_feature_1996</th>\n",
       "      <th>noise_feature_1997</th>\n",
       "      <th>noise_feature_1998</th>\n",
       "      <th>noise_feature_1999</th>\n",
       "      <th>disease_presence</th>\n",
       "    </tr>\n",
       "  </thead>\n",
       "  <tbody>\n",
       "    <tr>\n",
       "      <th>0</th>\n",
       "      <td>0.568395</td>\n",
       "      <td>0.516321</td>\n",
       "      <td>0.832213</td>\n",
       "      <td>0.590645</td>\n",
       "      <td>0.265762</td>\n",
       "      <td>0.466546</td>\n",
       "      <td>0.404895</td>\n",
       "      <td>0.505072</td>\n",
       "      <td>0.241488</td>\n",
       "      <td>0.570009</td>\n",
       "      <td>...</td>\n",
       "      <td>0.740422</td>\n",
       "      <td>0.673872</td>\n",
       "      <td>0.668326</td>\n",
       "      <td>0.373701</td>\n",
       "      <td>0.589542</td>\n",
       "      <td>0.515897</td>\n",
       "      <td>0.521195</td>\n",
       "      <td>0.457086</td>\n",
       "      <td>0.608894</td>\n",
       "      <td>1</td>\n",
       "    </tr>\n",
       "    <tr>\n",
       "      <th>1</th>\n",
       "      <td>0.514700</td>\n",
       "      <td>0.772866</td>\n",
       "      <td>0.616689</td>\n",
       "      <td>0.547011</td>\n",
       "      <td>0.531188</td>\n",
       "      <td>0.589246</td>\n",
       "      <td>0.498102</td>\n",
       "      <td>0.346487</td>\n",
       "      <td>0.520685</td>\n",
       "      <td>0.865898</td>\n",
       "      <td>...</td>\n",
       "      <td>0.802350</td>\n",
       "      <td>0.573125</td>\n",
       "      <td>0.523707</td>\n",
       "      <td>0.488266</td>\n",
       "      <td>0.569948</td>\n",
       "      <td>0.668989</td>\n",
       "      <td>0.559244</td>\n",
       "      <td>0.388880</td>\n",
       "      <td>0.466803</td>\n",
       "      <td>1</td>\n",
       "    </tr>\n",
       "    <tr>\n",
       "      <th>2</th>\n",
       "      <td>0.564581</td>\n",
       "      <td>0.538382</td>\n",
       "      <td>0.547456</td>\n",
       "      <td>0.761301</td>\n",
       "      <td>0.431287</td>\n",
       "      <td>0.607440</td>\n",
       "      <td>0.684806</td>\n",
       "      <td>0.538727</td>\n",
       "      <td>0.402073</td>\n",
       "      <td>0.420277</td>\n",
       "      <td>...</td>\n",
       "      <td>0.468123</td>\n",
       "      <td>0.613373</td>\n",
       "      <td>0.572384</td>\n",
       "      <td>0.177586</td>\n",
       "      <td>0.610907</td>\n",
       "      <td>0.530103</td>\n",
       "      <td>0.369267</td>\n",
       "      <td>0.397107</td>\n",
       "      <td>0.386887</td>\n",
       "      <td>0</td>\n",
       "    </tr>\n",
       "    <tr>\n",
       "      <th>3</th>\n",
       "      <td>0.597870</td>\n",
       "      <td>0.405342</td>\n",
       "      <td>0.526489</td>\n",
       "      <td>0.352205</td>\n",
       "      <td>0.562205</td>\n",
       "      <td>0.343713</td>\n",
       "      <td>0.586331</td>\n",
       "      <td>0.453149</td>\n",
       "      <td>0.535136</td>\n",
       "      <td>0.676234</td>\n",
       "      <td>...</td>\n",
       "      <td>0.617443</td>\n",
       "      <td>0.728587</td>\n",
       "      <td>0.338039</td>\n",
       "      <td>0.351478</td>\n",
       "      <td>0.618688</td>\n",
       "      <td>0.330724</td>\n",
       "      <td>0.208756</td>\n",
       "      <td>0.784091</td>\n",
       "      <td>0.407053</td>\n",
       "      <td>1</td>\n",
       "    </tr>\n",
       "    <tr>\n",
       "      <th>4</th>\n",
       "      <td>0.501368</td>\n",
       "      <td>0.549237</td>\n",
       "      <td>0.466993</td>\n",
       "      <td>0.586828</td>\n",
       "      <td>0.365426</td>\n",
       "      <td>0.435294</td>\n",
       "      <td>0.527804</td>\n",
       "      <td>0.527317</td>\n",
       "      <td>0.659935</td>\n",
       "      <td>0.281754</td>\n",
       "      <td>...</td>\n",
       "      <td>0.528594</td>\n",
       "      <td>0.491695</td>\n",
       "      <td>0.457204</td>\n",
       "      <td>0.371880</td>\n",
       "      <td>0.488289</td>\n",
       "      <td>0.212850</td>\n",
       "      <td>0.267299</td>\n",
       "      <td>0.341955</td>\n",
       "      <td>0.633915</td>\n",
       "      <td>0</td>\n",
       "    </tr>\n",
       "    <tr>\n",
       "      <th>...</th>\n",
       "      <td>...</td>\n",
       "      <td>...</td>\n",
       "      <td>...</td>\n",
       "      <td>...</td>\n",
       "      <td>...</td>\n",
       "      <td>...</td>\n",
       "      <td>...</td>\n",
       "      <td>...</td>\n",
       "      <td>...</td>\n",
       "      <td>...</td>\n",
       "      <td>...</td>\n",
       "      <td>...</td>\n",
       "      <td>...</td>\n",
       "      <td>...</td>\n",
       "      <td>...</td>\n",
       "      <td>...</td>\n",
       "      <td>...</td>\n",
       "      <td>...</td>\n",
       "      <td>...</td>\n",
       "      <td>...</td>\n",
       "      <td>...</td>\n",
       "    </tr>\n",
       "    <tr>\n",
       "      <th>1995</th>\n",
       "      <td>0.726639</td>\n",
       "      <td>0.662955</td>\n",
       "      <td>0.569010</td>\n",
       "      <td>0.342120</td>\n",
       "      <td>0.372552</td>\n",
       "      <td>0.485233</td>\n",
       "      <td>0.530980</td>\n",
       "      <td>0.586348</td>\n",
       "      <td>0.447542</td>\n",
       "      <td>0.492990</td>\n",
       "      <td>...</td>\n",
       "      <td>0.689298</td>\n",
       "      <td>0.352024</td>\n",
       "      <td>0.525072</td>\n",
       "      <td>0.425468</td>\n",
       "      <td>0.649736</td>\n",
       "      <td>0.513543</td>\n",
       "      <td>0.731096</td>\n",
       "      <td>0.659909</td>\n",
       "      <td>0.283483</td>\n",
       "      <td>0</td>\n",
       "    </tr>\n",
       "    <tr>\n",
       "      <th>1996</th>\n",
       "      <td>0.685133</td>\n",
       "      <td>0.768249</td>\n",
       "      <td>0.542044</td>\n",
       "      <td>0.462281</td>\n",
       "      <td>0.343866</td>\n",
       "      <td>0.455001</td>\n",
       "      <td>0.443903</td>\n",
       "      <td>0.510405</td>\n",
       "      <td>0.641112</td>\n",
       "      <td>0.466831</td>\n",
       "      <td>...</td>\n",
       "      <td>0.386531</td>\n",
       "      <td>0.415713</td>\n",
       "      <td>0.425060</td>\n",
       "      <td>0.620839</td>\n",
       "      <td>0.411582</td>\n",
       "      <td>0.686878</td>\n",
       "      <td>0.567234</td>\n",
       "      <td>0.350455</td>\n",
       "      <td>0.441243</td>\n",
       "      <td>0</td>\n",
       "    </tr>\n",
       "    <tr>\n",
       "      <th>1997</th>\n",
       "      <td>0.564246</td>\n",
       "      <td>0.524505</td>\n",
       "      <td>0.484740</td>\n",
       "      <td>0.593041</td>\n",
       "      <td>0.373847</td>\n",
       "      <td>0.412055</td>\n",
       "      <td>0.767390</td>\n",
       "      <td>0.357773</td>\n",
       "      <td>0.397197</td>\n",
       "      <td>0.611362</td>\n",
       "      <td>...</td>\n",
       "      <td>0.357179</td>\n",
       "      <td>0.241965</td>\n",
       "      <td>0.757046</td>\n",
       "      <td>0.693197</td>\n",
       "      <td>0.574609</td>\n",
       "      <td>0.548395</td>\n",
       "      <td>0.388832</td>\n",
       "      <td>0.501831</td>\n",
       "      <td>0.429047</td>\n",
       "      <td>0</td>\n",
       "    </tr>\n",
       "    <tr>\n",
       "      <th>1998</th>\n",
       "      <td>0.444198</td>\n",
       "      <td>0.493828</td>\n",
       "      <td>0.772226</td>\n",
       "      <td>0.405405</td>\n",
       "      <td>0.449819</td>\n",
       "      <td>0.579755</td>\n",
       "      <td>0.453410</td>\n",
       "      <td>0.436181</td>\n",
       "      <td>0.707039</td>\n",
       "      <td>0.407160</td>\n",
       "      <td>...</td>\n",
       "      <td>0.535644</td>\n",
       "      <td>0.459095</td>\n",
       "      <td>0.524668</td>\n",
       "      <td>0.572427</td>\n",
       "      <td>0.618146</td>\n",
       "      <td>0.647624</td>\n",
       "      <td>0.442281</td>\n",
       "      <td>0.513640</td>\n",
       "      <td>0.388345</td>\n",
       "      <td>0</td>\n",
       "    </tr>\n",
       "    <tr>\n",
       "      <th>1999</th>\n",
       "      <td>0.514454</td>\n",
       "      <td>0.575678</td>\n",
       "      <td>0.686663</td>\n",
       "      <td>0.149846</td>\n",
       "      <td>0.569847</td>\n",
       "      <td>0.412145</td>\n",
       "      <td>0.446558</td>\n",
       "      <td>0.308282</td>\n",
       "      <td>0.634080</td>\n",
       "      <td>0.317562</td>\n",
       "      <td>...</td>\n",
       "      <td>0.625216</td>\n",
       "      <td>0.784263</td>\n",
       "      <td>0.617844</td>\n",
       "      <td>0.708503</td>\n",
       "      <td>0.619372</td>\n",
       "      <td>0.594839</td>\n",
       "      <td>0.483046</td>\n",
       "      <td>0.134077</td>\n",
       "      <td>0.244145</td>\n",
       "      <td>0</td>\n",
       "    </tr>\n",
       "  </tbody>\n",
       "</table>\n",
       "<p>2000 rows × 2011 columns</p>\n",
       "</div>"
      ],
      "text/plain": [
       "           age    income  blood_pressure  cholesterol_level       BMI  \\\n",
       "0     0.568395  0.516321        0.832213           0.590645  0.265762   \n",
       "1     0.514700  0.772866        0.616689           0.547011  0.531188   \n",
       "2     0.564581  0.538382        0.547456           0.761301  0.431287   \n",
       "3     0.597870  0.405342        0.526489           0.352205  0.562205   \n",
       "4     0.501368  0.549237        0.466993           0.586828  0.365426   \n",
       "...        ...       ...             ...                ...       ...   \n",
       "1995  0.726639  0.662955        0.569010           0.342120  0.372552   \n",
       "1996  0.685133  0.768249        0.542044           0.462281  0.343866   \n",
       "1997  0.564246  0.524505        0.484740           0.593041  0.373847   \n",
       "1998  0.444198  0.493828        0.772226           0.405405  0.449819   \n",
       "1999  0.514454  0.575678        0.686663           0.149846  0.569847   \n",
       "\n",
       "      glucose_level  heart_rate  body_fat  genetic_risk  exercis_intensity  \\\n",
       "0          0.466546    0.404895  0.505072      0.241488           0.570009   \n",
       "1          0.589246    0.498102  0.346487      0.520685           0.865898   \n",
       "2          0.607440    0.684806  0.538727      0.402073           0.420277   \n",
       "3          0.343713    0.586331  0.453149      0.535136           0.676234   \n",
       "4          0.435294    0.527804  0.527317      0.659935           0.281754   \n",
       "...             ...         ...       ...           ...                ...   \n",
       "1995       0.485233    0.530980  0.586348      0.447542           0.492990   \n",
       "1996       0.455001    0.443903  0.510405      0.641112           0.466831   \n",
       "1997       0.412055    0.767390  0.357773      0.397197           0.611362   \n",
       "1998       0.579755    0.453410  0.436181      0.707039           0.407160   \n",
       "1999       0.412145    0.446558  0.308282      0.634080           0.317562   \n",
       "\n",
       "      ...  noise_feature_1991  noise_feature_1992  noise_feature_1993  \\\n",
       "0     ...            0.740422            0.673872            0.668326   \n",
       "1     ...            0.802350            0.573125            0.523707   \n",
       "2     ...            0.468123            0.613373            0.572384   \n",
       "3     ...            0.617443            0.728587            0.338039   \n",
       "4     ...            0.528594            0.491695            0.457204   \n",
       "...   ...                 ...                 ...                 ...   \n",
       "1995  ...            0.689298            0.352024            0.525072   \n",
       "1996  ...            0.386531            0.415713            0.425060   \n",
       "1997  ...            0.357179            0.241965            0.757046   \n",
       "1998  ...            0.535644            0.459095            0.524668   \n",
       "1999  ...            0.625216            0.784263            0.617844   \n",
       "\n",
       "      noise_feature_1994  noise_feature_1995  noise_feature_1996  \\\n",
       "0               0.373701            0.589542            0.515897   \n",
       "1               0.488266            0.569948            0.668989   \n",
       "2               0.177586            0.610907            0.530103   \n",
       "3               0.351478            0.618688            0.330724   \n",
       "4               0.371880            0.488289            0.212850   \n",
       "...                  ...                 ...                 ...   \n",
       "1995            0.425468            0.649736            0.513543   \n",
       "1996            0.620839            0.411582            0.686878   \n",
       "1997            0.693197            0.574609            0.548395   \n",
       "1998            0.572427            0.618146            0.647624   \n",
       "1999            0.708503            0.619372            0.594839   \n",
       "\n",
       "      noise_feature_1997  noise_feature_1998  noise_feature_1999  \\\n",
       "0               0.521195            0.457086            0.608894   \n",
       "1               0.559244            0.388880            0.466803   \n",
       "2               0.369267            0.397107            0.386887   \n",
       "3               0.208756            0.784091            0.407053   \n",
       "4               0.267299            0.341955            0.633915   \n",
       "...                  ...                 ...                 ...   \n",
       "1995            0.731096            0.659909            0.283483   \n",
       "1996            0.567234            0.350455            0.441243   \n",
       "1997            0.388832            0.501831            0.429047   \n",
       "1998            0.442281            0.513640            0.388345   \n",
       "1999            0.483046            0.134077            0.244145   \n",
       "\n",
       "      disease_presence  \n",
       "0                    1  \n",
       "1                    1  \n",
       "2                    0  \n",
       "3                    1  \n",
       "4                    0  \n",
       "...                ...  \n",
       "1995                 0  \n",
       "1996                 0  \n",
       "1997                 0  \n",
       "1998                 0  \n",
       "1999                 0  \n",
       "\n",
       "[2000 rows x 2011 columns]"
      ]
     },
     "execution_count": 12,
     "metadata": {},
     "output_type": "execute_result"
    }
   ],
   "source": [
    "target_series = pd.Series(y, name = \"disease_presence\")\n",
    "final_df = pd.concat([features_df, target_series], axis = 1)\n",
    "final_df"
   ]
  },
  {
   "cell_type": "markdown",
   "id": "7329edb0",
   "metadata": {},
   "source": [
    "## Data Cleaning"
   ]
  },
  {
   "cell_type": "code",
   "execution_count": 14,
   "id": "0bc5cada",
   "metadata": {},
   "outputs": [],
   "source": [
    "X = final_df.drop('disease_presence', axis = 1)\n",
    "y = final_df['disease_presence']\n",
    "imputer = SimpleImputer(strategy = 'mean')\n",
    "X_imputed = imputer.fit_transform(X)\n",
    "X = pd.DataFrame(X_imputed, columns = X.columns)"
   ]
  },
  {
   "cell_type": "code",
   "execution_count": 15,
   "id": "74db9327",
   "metadata": {},
   "outputs": [
    {
     "data": {
      "text/plain": [
       "age                   0\n",
       "income                0\n",
       "blood_pressure        0\n",
       "cholesterol_level     0\n",
       "BMI                   0\n",
       "                     ..\n",
       "noise_feature_1995    0\n",
       "noise_feature_1996    0\n",
       "noise_feature_1997    0\n",
       "noise_feature_1998    0\n",
       "noise_feature_1999    0\n",
       "Length: 2010, dtype: int64"
      ]
     },
     "execution_count": 15,
     "metadata": {},
     "output_type": "execute_result"
    }
   ],
   "source": [
    "missing_values = X.isnull().sum()\n",
    "missing_values"
   ]
  },
  {
   "cell_type": "markdown",
   "id": "fba1df46",
   "metadata": {},
   "source": [
    "## Split by train and test datasets"
   ]
  },
  {
   "cell_type": "code",
   "execution_count": 17,
   "id": "765009f9",
   "metadata": {},
   "outputs": [],
   "source": [
    "X_train, X_test, y_train, y_test = train_test_split(X,\n",
    "                                                    y, \n",
    "                                                    test_size = 0.3, \n",
    "                                                    random_state = 42)"
   ]
  },
  {
   "cell_type": "code",
   "execution_count": 18,
   "id": "af2b47b7",
   "metadata": {},
   "outputs": [
    {
     "data": {
      "text/plain": [
       "((1400, 2010), (600, 2010))"
      ]
     },
     "execution_count": 18,
     "metadata": {},
     "output_type": "execute_result"
    }
   ],
   "source": [
    "X_train.shape, X_test.shape"
   ]
  },
  {
   "cell_type": "markdown",
   "id": "fd52e1b5",
   "metadata": {},
   "source": [
    "## Classification Algorithms"
   ]
  },
  {
   "cell_type": "code",
   "execution_count": 26,
   "id": "01330259",
   "metadata": {},
   "outputs": [
    {
     "data": {
      "text/plain": [
       "GaussianNB()"
      ]
     },
     "execution_count": 26,
     "metadata": {},
     "output_type": "execute_result"
    }
   ],
   "source": [
    "rf = RandomForestClassifier(random_state = 42)\n",
    "nb = GaussianNB()\n",
    "rf.fit(X_train, y_train)\n",
    "nb.fit(X_train, y_train)"
   ]
  },
  {
   "cell_type": "code",
   "execution_count": 27,
   "id": "e72251c6",
   "metadata": {},
   "outputs": [],
   "source": [
    "r_probs = [0 for a in range(len(y_test))]"
   ]
  },
  {
   "cell_type": "code",
   "execution_count": 29,
   "id": "2edb736f",
   "metadata": {},
   "outputs": [],
   "source": [
    "rf_probs = rf.predict_proba(X_test)\n",
    "nb_probs = nb.predict_proba(X_test)\n",
    "rf_probs = rf_probs[:, 1]\n",
    "nb_probs = nb_probs[:, 1]"
   ]
  },
  {
   "cell_type": "code",
   "execution_count": 35,
   "id": "0c933262",
   "metadata": {},
   "outputs": [
    {
     "name": "stdout",
     "output_type": "stream",
     "text": [
      "Random Chance Prediction AUROC = 0.50\n",
      "Random Fores AUROC = 0.72\n",
      "Naive Bayes AUROC = 0.70\n"
     ]
    }
   ],
   "source": [
    "r_auc = roc_auc_score(y_test, r_probs)\n",
    "rf_auc = roc_auc_score(y_test, rf_probs)\n",
    "nb_auc = roc_auc_score(y_test, nb_probs)\n",
    "print('Random Chance Prediction AUROC = %.2f' % r_auc)\n",
    "print('Random Fores AUROC = %.2f' % rf_auc)\n",
    "print('Naive Bayes AUROC = %.2f' % nb_auc)"
   ]
  },
  {
   "cell_type": "code",
   "execution_count": 36,
   "id": "cab9bbc7",
   "metadata": {},
   "outputs": [],
   "source": [
    "r_fpr, r_tpr, th = roc_curve(y_test, r_probs)\n",
    "rf_fpr, rf_tpr, th = roc_curve(y_test, rf_probs)\n",
    "nb_fpr, nb_tpr, th = roc_curve(y_test, nb_probs)"
   ]
  },
  {
   "cell_type": "code",
   "execution_count": 39,
   "id": "60536f7b",
   "metadata": {},
   "outputs": [
    {
     "data": {
      "image/png": "[encoded data removed]",
      "text/plain": [
       "<Figure size 640x480 with 1 Axes>"
      ]
     },
     "metadata": {},
     "output_type": "display_data"
    }
   ],
   "source": [
    "plt.plot(r_fpr, r_tpr, linestyle = '--', label = 'Random Prediction (AUROC = %0.2f)' % r_auc)\n",
    "plt.plot(rf_fpr, rf_tpr, marker = '.', label = 'Random Forest (AUROC = %0.2f)' % rf_auc)\n",
    "plt.plot(nb_fpr, nb_tpr, marker = '.', label = 'Naive Bayes (AUROC = %0.2f)' % nb_auc)\n",
    "\n",
    "plt.title('ROC Curve Plot')\n",
    "plt.xlabel('False Positive Rate')\n",
    "plt.ylabel('True Positive Rate')\n",
    "plt.legend()\n",
    "plt.show()"
   ]
  }
 ],
 "metadata": {
  "kernelspec": {
   "display_name": "Python 3 (ipykernel)",
   "language": "python",
   "name": "python3"
  },
  "language_info": {
   "codemirror_mode": {
    "name": "ipython",
    "version": 3
   },
   "file_extension": ".py",
   "mimetype": "text/x-python",
   "name": "python",
   "nbconvert_exporter": "python",
   "pygments_lexer": "ipython3",
   "version": "3.9.13"
  }
 },
 "nbformat": 4,
 "nbformat_minor": 5
}
