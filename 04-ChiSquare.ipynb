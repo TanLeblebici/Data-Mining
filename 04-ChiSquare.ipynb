{
 "cells": [
  {
   "cell_type": "markdown",
   "id": "80c43c8b",
   "metadata": {},
   "source": [
    "# Chi Square"
   ]
  },
  {
   "cell_type": "markdown",
   "id": "188fd4ad",
   "metadata": {},
   "source": [
    "## import libraries"
   ]
  },
  {
   "cell_type": "code",
   "execution_count": null,
   "id": "19e7489f",
   "metadata": {},
   "outputs": [],
   "source": [
    "import pandas as pd\n",
    "import matplotlib.pyplot as plt\n",
    "from scipy.stats import chi2_contingency\n",
    "from sklearn.model_selection import train_test_split"
   ]
  },
  {
   "cell_type": "code",
   "execution_count": null,
   "id": "61afa3e0",
   "metadata": {},
   "outputs": [],
   "source": [
    "data = pd.read_csv(\"dataset_2.csv\")"
   ]
  },
  {
   "cell_type": "code",
   "execution_count": null,
   "id": "09475447",
   "metadata": {
    "scrolled": true
   },
   "outputs": [],
   "source": [
    "data.head()"
   ]
  },
  {
   "cell_type": "markdown",
   "id": "5d8614cb",
   "metadata": {},
   "source": [
    "## split into train and test"
   ]
  },
  {
   "cell_type": "code",
   "execution_count": null,
   "id": "51a7c4c6",
   "metadata": {},
   "outputs": [],
   "source": [
    "fs = data.drop(labels=\"target\",axis=1)\n",
    "dv = data[\"target\"]\n",
    "x_train,x_test , y_train, y_test = train_test_split(fs,dv,test_size=0.3,random_state=0)\n",
    "x_train.shape , x_test.shape"
   ]
  },
  {
   "cell_type": "markdown",
   "id": "aadc840f",
   "metadata": {},
   "source": [
    "## Apply Chi Square"
   ]
  },
  {
   "cell_type": "code",
   "execution_count": null,
   "id": "81e902d0",
   "metadata": {},
   "outputs": [],
   "source": [
    "# To rank all features\n",
    "\n",
    "chi_ls = []\n",
    "\n",
    "for feature in x_train.columns:\n",
    "    \n",
    "    # create contingency table\n",
    "    c = pd.crosstab(y_train, x_train[feature])\n",
    "    \n",
    "    # chi_test\n",
    "    ch_square_value = chi2_contingency(c)[0]\n",
    "    chi_ls.append(ch_square_value)"
   ]
  },
  {
   "cell_type": "code",
   "execution_count": null,
   "id": "090a2898",
   "metadata": {},
   "outputs": [],
   "source": [
    "pd.Series(chi_ls, index=x_train.columns).sort_values(ascending=False).plot.bar(figsize=(20, 8))\n",
    "plt.ylabel('Chi Square Value')\n",
    "plt.title('Feature importance based on chi-square test')"
   ]
  },
  {
   "cell_type": "code",
   "execution_count": null,
   "id": "630c27d0",
   "metadata": {},
   "outputs": [],
   "source": [
    "# Select the top features\n",
    "Selected = pd.Series(chi_ls, index=x_train.columns).sort_values(\n",
    "    ascending=False)[0:10].index\n"
   ]
  },
  {
   "cell_type": "code",
   "execution_count": null,
   "id": "c6545984",
   "metadata": {},
   "outputs": [],
   "source": [
    "Selected"
   ]
  }
 ],
 "metadata": {
  "kernelspec": {
   "display_name": "Python 3 (ipykernel)",
   "language": "python",
   "name": "python3"
  },
  "language_info": {
   "codemirror_mode": {
    "name": "ipython",
    "version": 3
   },
   "file_extension": ".py",
   "mimetype": "text/x-python",
   "name": "python",
   "nbconvert_exporter": "python",
   "pygments_lexer": "ipython3",
   "version": "3.11.5"
  }
 },
 "nbformat": 4,
 "nbformat_minor": 5
}
