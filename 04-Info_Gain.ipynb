{
 "cells": [
  {
   "cell_type": "markdown",
   "id": "6db31491",
   "metadata": {},
   "source": [
    "# Information Gain"
   ]
  },
  {
   "cell_type": "markdown",
   "id": "1d6338a5",
   "metadata": {},
   "source": [
    "## import libraries and the data"
   ]
  },
  {
   "cell_type": "code",
   "execution_count": 1,
   "id": "0ea959db",
   "metadata": {},
   "outputs": [],
   "source": [
    "from sklearn.tree import DecisionTreeClassifier\n",
    "import numpy as np\n",
    "import pandas as pd\n",
    "import matplotlib.pyplot as plt\n",
    "from sklearn.model_selection import train_test_split"
   ]
  },
  {
   "cell_type": "code",
   "execution_count": 2,
   "id": "135f90a2",
   "metadata": {},
   "outputs": [],
   "source": [
    "data = pd.read_csv(\"dataset_2.csv\")"
   ]
  },
  {
   "cell_type": "code",
   "execution_count": 3,
   "id": "59a56396",
   "metadata": {
    "scrolled": true
   },
   "outputs": [
    {
     "data": {
      "text/html": [
       "<div>\n",
       "<style scoped>\n",
       "    .dataframe tbody tr th:only-of-type {\n",
       "        vertical-align: middle;\n",
       "    }\n",
       "\n",
       "    .dataframe tbody tr th {\n",
       "        vertical-align: top;\n",
       "    }\n",
       "\n",
       "    .dataframe thead th {\n",
       "        text-align: right;\n",
       "    }\n",
       "</style>\n",
       "<table border=\"1\" class=\"dataframe\">\n",
       "  <thead>\n",
       "    <tr style=\"text-align: right;\">\n",
       "      <th></th>\n",
       "      <th>var_1</th>\n",
       "      <th>var_2</th>\n",
       "      <th>var_3</th>\n",
       "      <th>var_4</th>\n",
       "      <th>var_5</th>\n",
       "      <th>var_6</th>\n",
       "      <th>var_7</th>\n",
       "      <th>var_8</th>\n",
       "      <th>var_9</th>\n",
       "      <th>var_10</th>\n",
       "      <th>...</th>\n",
       "      <th>var_100</th>\n",
       "      <th>var_101</th>\n",
       "      <th>var_102</th>\n",
       "      <th>var_103</th>\n",
       "      <th>var_104</th>\n",
       "      <th>var_105</th>\n",
       "      <th>var_106</th>\n",
       "      <th>var_107</th>\n",
       "      <th>var_108</th>\n",
       "      <th>var_109</th>\n",
       "    </tr>\n",
       "  </thead>\n",
       "  <tbody>\n",
       "    <tr>\n",
       "      <th>0</th>\n",
       "      <td>4.532710</td>\n",
       "      <td>3.280834</td>\n",
       "      <td>17.982476</td>\n",
       "      <td>4.404259</td>\n",
       "      <td>2.349910</td>\n",
       "      <td>0.603264</td>\n",
       "      <td>2.784655</td>\n",
       "      <td>0.323146</td>\n",
       "      <td>12.009691</td>\n",
       "      <td>0.139346</td>\n",
       "      <td>...</td>\n",
       "      <td>2.079066</td>\n",
       "      <td>6.748819</td>\n",
       "      <td>2.941445</td>\n",
       "      <td>18.360496</td>\n",
       "      <td>17.726613</td>\n",
       "      <td>7.774031</td>\n",
       "      <td>1.473441</td>\n",
       "      <td>1.973832</td>\n",
       "      <td>0.976806</td>\n",
       "      <td>2.541417</td>\n",
       "    </tr>\n",
       "    <tr>\n",
       "      <th>1</th>\n",
       "      <td>5.821374</td>\n",
       "      <td>12.098722</td>\n",
       "      <td>13.309151</td>\n",
       "      <td>4.125599</td>\n",
       "      <td>1.045386</td>\n",
       "      <td>1.832035</td>\n",
       "      <td>1.833494</td>\n",
       "      <td>0.709090</td>\n",
       "      <td>8.652883</td>\n",
       "      <td>0.102757</td>\n",
       "      <td>...</td>\n",
       "      <td>2.479789</td>\n",
       "      <td>7.795290</td>\n",
       "      <td>3.557890</td>\n",
       "      <td>17.383378</td>\n",
       "      <td>15.193423</td>\n",
       "      <td>8.263673</td>\n",
       "      <td>1.878108</td>\n",
       "      <td>0.567939</td>\n",
       "      <td>1.018818</td>\n",
       "      <td>1.416433</td>\n",
       "    </tr>\n",
       "    <tr>\n",
       "      <th>2</th>\n",
       "      <td>1.938776</td>\n",
       "      <td>7.952752</td>\n",
       "      <td>0.972671</td>\n",
       "      <td>3.459267</td>\n",
       "      <td>1.935782</td>\n",
       "      <td>0.621463</td>\n",
       "      <td>2.338139</td>\n",
       "      <td>0.344948</td>\n",
       "      <td>9.937850</td>\n",
       "      <td>11.691283</td>\n",
       "      <td>...</td>\n",
       "      <td>1.861487</td>\n",
       "      <td>6.130886</td>\n",
       "      <td>3.401064</td>\n",
       "      <td>15.850471</td>\n",
       "      <td>14.620599</td>\n",
       "      <td>6.849776</td>\n",
       "      <td>1.098210</td>\n",
       "      <td>1.959183</td>\n",
       "      <td>1.575493</td>\n",
       "      <td>1.857893</td>\n",
       "    </tr>\n",
       "    <tr>\n",
       "      <th>3</th>\n",
       "      <td>6.020690</td>\n",
       "      <td>9.900544</td>\n",
       "      <td>17.869637</td>\n",
       "      <td>4.366715</td>\n",
       "      <td>1.973693</td>\n",
       "      <td>2.026012</td>\n",
       "      <td>2.853025</td>\n",
       "      <td>0.674847</td>\n",
       "      <td>11.816859</td>\n",
       "      <td>0.011151</td>\n",
       "      <td>...</td>\n",
       "      <td>1.340944</td>\n",
       "      <td>7.240058</td>\n",
       "      <td>2.417235</td>\n",
       "      <td>15.194609</td>\n",
       "      <td>13.553772</td>\n",
       "      <td>7.229971</td>\n",
       "      <td>0.835158</td>\n",
       "      <td>2.234482</td>\n",
       "      <td>0.946170</td>\n",
       "      <td>2.700606</td>\n",
       "    </tr>\n",
       "    <tr>\n",
       "      <th>4</th>\n",
       "      <td>3.909506</td>\n",
       "      <td>10.576516</td>\n",
       "      <td>0.934191</td>\n",
       "      <td>3.419572</td>\n",
       "      <td>1.871438</td>\n",
       "      <td>3.340811</td>\n",
       "      <td>1.868282</td>\n",
       "      <td>0.439865</td>\n",
       "      <td>13.585620</td>\n",
       "      <td>1.153366</td>\n",
       "      <td>...</td>\n",
       "      <td>2.738095</td>\n",
       "      <td>6.565509</td>\n",
       "      <td>4.341414</td>\n",
       "      <td>15.893832</td>\n",
       "      <td>11.929787</td>\n",
       "      <td>6.954033</td>\n",
       "      <td>1.853364</td>\n",
       "      <td>0.511027</td>\n",
       "      <td>2.599562</td>\n",
       "      <td>0.811364</td>\n",
       "    </tr>\n",
       "  </tbody>\n",
       "</table>\n",
       "<p>5 rows × 109 columns</p>\n",
       "</div>"
      ],
      "text/plain": [
       "      var_1      var_2      var_3     var_4     var_5     var_6     var_7  \\\n",
       "0  4.532710   3.280834  17.982476  4.404259  2.349910  0.603264  2.784655   \n",
       "1  5.821374  12.098722  13.309151  4.125599  1.045386  1.832035  1.833494   \n",
       "2  1.938776   7.952752   0.972671  3.459267  1.935782  0.621463  2.338139   \n",
       "3  6.020690   9.900544  17.869637  4.366715  1.973693  2.026012  2.853025   \n",
       "4  3.909506  10.576516   0.934191  3.419572  1.871438  3.340811  1.868282   \n",
       "\n",
       "      var_8      var_9     var_10  ...   var_100   var_101   var_102  \\\n",
       "0  0.323146  12.009691   0.139346  ...  2.079066  6.748819  2.941445   \n",
       "1  0.709090   8.652883   0.102757  ...  2.479789  7.795290  3.557890   \n",
       "2  0.344948   9.937850  11.691283  ...  1.861487  6.130886  3.401064   \n",
       "3  0.674847  11.816859   0.011151  ...  1.340944  7.240058  2.417235   \n",
       "4  0.439865  13.585620   1.153366  ...  2.738095  6.565509  4.341414   \n",
       "\n",
       "     var_103    var_104   var_105   var_106   var_107   var_108   var_109  \n",
       "0  18.360496  17.726613  7.774031  1.473441  1.973832  0.976806  2.541417  \n",
       "1  17.383378  15.193423  8.263673  1.878108  0.567939  1.018818  1.416433  \n",
       "2  15.850471  14.620599  6.849776  1.098210  1.959183  1.575493  1.857893  \n",
       "3  15.194609  13.553772  7.229971  0.835158  2.234482  0.946170  2.700606  \n",
       "4  15.893832  11.929787  6.954033  1.853364  0.511027  2.599562  0.811364  \n",
       "\n",
       "[5 rows x 109 columns]"
      ]
     },
     "execution_count": 3,
     "metadata": {},
     "output_type": "execute_result"
    }
   ],
   "source": [
    "data.head()"
   ]
  },
  {
   "cell_type": "code",
   "execution_count": 4,
   "id": "b01f69a1",
   "metadata": {
    "scrolled": true
   },
   "outputs": [
    {
     "name": "stdout",
     "output_type": "stream",
     "text": [
      "<class 'pandas.core.frame.DataFrame'>\n",
      "RangeIndex: 50000 entries, 0 to 49999\n",
      "Columns: 109 entries, var_1 to var_109\n",
      "dtypes: float64(108), int64(1)\n",
      "memory usage: 41.6 MB\n"
     ]
    }
   ],
   "source": [
    "data.info()"
   ]
  },
  {
   "cell_type": "markdown",
   "id": "7ec8d4fb",
   "metadata": {},
   "source": [
    "## Split by train and test"
   ]
  },
  {
   "cell_type": "code",
   "execution_count": 5,
   "id": "1c97a4d2",
   "metadata": {},
   "outputs": [
    {
     "data": {
      "text/plain": [
       "((35000, 108), (15000, 108))"
      ]
     },
     "execution_count": 5,
     "metadata": {},
     "output_type": "execute_result"
    }
   ],
   "source": [
    "fs = data.drop(labels=\"target\",axis=1) # Extracting features by dropping the target\n",
    "dv = data[\"target\"] # Extracting target variable\n",
    "\n",
    "#Split the dataset into training and testing sets\n",
    "x_train, x_test , y_train, y_test = train_test_split(fs, # Features\n",
    "                                                     dv, # Target Variable\n",
    "                                                     test_size=0.3, # Ratio of test set\n",
    "                                                     random_state=0) # Random seed\n",
    "x_train.shape , x_test.shape"
   ]
  },
  {
   "cell_type": "markdown",
   "id": "dfcc9d3a",
   "metadata": {},
   "source": [
    "## Apply Decision tree classifier"
   ]
  },
  {
   "cell_type": "code",
   "execution_count": 6,
   "id": "fc0f0994",
   "metadata": {},
   "outputs": [],
   "source": [
    "# Create a Decision Tree Classifier object with criterion as entropy\n",
    "clf = DecisionTreeClassifier(criterion = \"entropy\")"
   ]
  },
  {
   "cell_type": "code",
   "execution_count": 7,
   "id": "f08e3c09",
   "metadata": {},
   "outputs": [
    {
     "data": {
      "text/plain": [
       "DecisionTreeClassifier(criterion='entropy')"
      ]
     },
     "execution_count": 7,
     "metadata": {},
     "output_type": "execute_result"
    }
   ],
   "source": [
    "# Train the Decision Tree Classifier using the training data\n",
    "clf.fit(x_train, y_train)"
   ]
  },
  {
   "cell_type": "code",
   "execution_count": 14,
   "id": "0d390113",
   "metadata": {},
   "outputs": [],
   "source": [
    "# Extract feature importances from the trained classifier\n",
    "imp_features = clf.feature_importances_"
   ]
  },
  {
   "cell_type": "code",
   "execution_count": 9,
   "id": "7b7abbd9",
   "metadata": {},
   "outputs": [
    {
     "name": "stdout",
     "output_type": "stream",
     "text": [
      "Feature var_1: 0.009076117839368852\n",
      "Feature var_2: 0.01055179616471293\n",
      "Feature var_3: 0.00823020040453392\n",
      "Feature var_4: 0.008863993177509806\n",
      "Feature var_5: 0.005769357926349653\n",
      "Feature var_6: 0.009971248862383389\n",
      "Feature var_7: 0.009819563384471602\n",
      "Feature var_8: 0.01021307933806259\n",
      "Feature var_9: 0.012056259785766344\n",
      "Feature var_10: 0.00985616740022423\n",
      "Feature var_11: 0.01170344390710752\n",
      "Feature var_12: 0.007948610109003239\n",
      "Feature var_13: 0.008647451865773242\n",
      "Feature var_14: 0.008739992126235148\n",
      "Feature var_15: 0.00866016015698207\n",
      "Feature var_16: 0.01906441562133032\n",
      "Feature var_17: 0.012686852869733378\n",
      "Feature var_18: 0.010603822357079849\n",
      "Feature var_19: 0.008523421144268909\n",
      "Feature var_20: 0.01255127607782851\n",
      "Feature var_21: 0.009760674725121153\n",
      "Feature var_22: 0.004361102377156966\n",
      "Feature var_23: 0.007192642697768275\n",
      "Feature var_24: 0.006781099834739242\n",
      "Feature var_25: 0.005718793003509688\n",
      "Feature var_26: 0.010007636768651212\n",
      "Feature var_27: 0.008683253869959238\n",
      "Feature var_28: 0.00562573410636913\n",
      "Feature var_29: 0.006477768297770998\n",
      "Feature var_30: 0.0094032208524166\n",
      "Feature var_31: 0.010266836704542445\n",
      "Feature var_32: 0.004664121988277955\n",
      "Feature var_33: 0.006581723239580507\n",
      "Feature var_34: 0.011184547046247922\n",
      "Feature var_35: 0.009779692497817455\n",
      "Feature var_36: 0.010341411317731085\n",
      "Feature var_37: 0.010441913536758747\n",
      "Feature var_38: 0.00880290198355246\n",
      "Feature var_39: 0.004806643341189294\n",
      "Feature var_40: 0.006570569170362226\n",
      "Feature var_41: 0.01048000756960811\n",
      "Feature var_42: 0.007260795340576133\n",
      "Feature var_43: 0.005359398095533827\n",
      "Feature var_44: 0.008494616364183898\n",
      "Feature var_45: 0.00569112344491697\n",
      "Feature var_46: 0.006778086710681088\n",
      "Feature var_47: 0.008154707462752538\n",
      "Feature var_48: 0.007994466378694463\n",
      "Feature var_49: 0.011433915813784093\n",
      "Feature var_50: 0.009166837350992735\n",
      "Feature var_51: 0.008505520000563168\n",
      "Feature var_52: 0.00515378160152044\n",
      "Feature var_53: 0.008883320603592527\n",
      "Feature var_54: 0.007175422469570438\n",
      "Feature var_55: 0.0817685024866067\n",
      "Feature var_56: 0.004154319143039739\n",
      "Feature var_57: 0.005277352369272783\n",
      "Feature var_58: 0.009894230704916103\n",
      "Feature var_59: 0.0043410002802117586\n",
      "Feature var_60: 0.006841966255147681\n",
      "Feature target: 0.008297722616374814\n",
      "Feature var_62: 0.005765062256706513\n",
      "Feature var_63: 0.007420152200524718\n",
      "Feature var_64: 0.008845238278300525\n",
      "Feature var_65: 0.006362753575582847\n",
      "Feature var_66: 0.008195946952291807\n",
      "Feature var_67: 0.009300837979322877\n",
      "Feature var_68: 0.005694308490579771\n",
      "Feature var_69: 0.011532745981672036\n",
      "Feature var_70: 0.009361132578919566\n",
      "Feature var_71: 0.00882991199488715\n",
      "Feature var_72: 0.012639897480495176\n",
      "Feature var_73: 0.003970139381931039\n",
      "Feature var_74: 0.008309476510434207\n",
      "Feature var_75: 0.005860945418426054\n",
      "Feature var_76: 0.010104636114762533\n",
      "Feature var_77: 0.011917931350279356\n",
      "Feature var_78: 0.009755487908756508\n",
      "Feature var_79: 0.009165661669681751\n",
      "Feature var_80: 0.012893574366295091\n",
      "Feature var_81: 0.012332053460485316\n",
      "Feature var_82: 0.00623222474632008\n",
      "Feature var_83: 0.006781223314702842\n",
      "Feature var_84: 0.008003878552230127\n",
      "Feature var_85: 0.008543265676538448\n",
      "Feature var_86: 0.007331723297480533\n",
      "Feature var_87: 0.009789117931949894\n",
      "Feature var_88: 0.009470786921546967\n",
      "Feature var_89: 0.010435168949074427\n",
      "Feature var_90: 0.0038909252766536483\n",
      "Feature var_91: 0.009339964772103162\n",
      "Feature var_92: 0.007986874569811765\n",
      "Feature var_93: 0.010641535971205027\n",
      "Feature var_94: 0.011142199774496882\n",
      "Feature var_95: 0.012819442116565005\n",
      "Feature var_96: 0.00523311658526893\n",
      "Feature var_97: 0.007049830750501484\n",
      "Feature var_98: 0.013572557506986231\n",
      "Feature var_99: 0.009695071547643668\n",
      "Feature var_100: 0.0039168636078253435\n",
      "Feature var_101: 0.00877361515180387\n",
      "Feature var_102: 0.010367453993770797\n",
      "Feature var_103: 0.009985030791982053\n",
      "Feature var_104: 0.004803457499034274\n",
      "Feature var_105: 0.008534693105324915\n",
      "Feature var_106: 0.008985472132619118\n",
      "Feature var_107: 0.01250900394820503\n",
      "Feature var_108: 0.0038109966172326787\n"
     ]
    }
   ],
   "source": [
    "for i, importance in enumerate(imp_features):\n",
    "    print(f\"Feature {data.columns[i]}: {importance}\")"
   ]
  },
  {
   "cell_type": "code",
   "execution_count": 10,
   "id": "99fe4bfa",
   "metadata": {},
   "outputs": [],
   "source": [
    "# Sort the feature importances in descending order and select top 10\n",
    "sorted_indices = np.argsort(imp_features)[::-1][:10]"
   ]
  },
  {
   "cell_type": "code",
   "execution_count": 11,
   "id": "48ee1986",
   "metadata": {},
   "outputs": [
    {
     "name": "stdout",
     "output_type": "stream",
     "text": [
      "Features sorted by their importance:\n",
      "var_55: 0.0817685024866067\n",
      "var_16: 0.01906441562133032\n",
      "var_98: 0.013572557506986231\n",
      "var_80: 0.012893574366295091\n",
      "var_95: 0.012819442116565005\n",
      "var_17: 0.012686852869733378\n",
      "var_72: 0.012639897480495176\n",
      "var_20: 0.01255127607782851\n",
      "var_107: 0.01250900394820503\n",
      "var_81: 0.012332053460485316\n"
     ]
    }
   ],
   "source": [
    "# Print the top 10 features sorted by their importance\n",
    "print(\"Features sorted by their importance:\")\n",
    "for i in sorted_indices:\n",
    "    print(f\"{data.columns[i]}: {imp_features[i]}\")"
   ]
  },
  {
   "cell_type": "code",
   "execution_count": 12,
   "id": "a4812798",
   "metadata": {},
   "outputs": [
    {
     "name": "stdout",
     "output_type": "stream",
     "text": [
      "Top 10 Important Features:\n",
      "var_55: 0.0817685024866067\n",
      "var_16: 0.01906441562133032\n",
      "var_99: 0.013572557506986231\n",
      "var_81: 0.012893574366295091\n",
      "var_96: 0.012819442116565005\n",
      "var_17: 0.012686852869733378\n",
      "var_73: 0.012639897480495176\n",
      "var_20: 0.01255127607782851\n",
      "var_108: 0.01250900394820503\n",
      "var_82: 0.012332053460485316\n"
     ]
    }
   ],
   "source": [
    "# Print the top 10 important features with their importance values\n",
    "print(\"Top 10 Important Features:\")\n",
    "for index in sorted_indices:\n",
    "    if isinstance(x_train, pd.DataFrame):\n",
    "        print(f\"{x_train.columns[index]}: {imp_features[index]}\")\n",
    "    else:\n",
    "        print(f\"Feature {index}: {imp_features[index]}\")"
   ]
  },
  {
   "cell_type": "code",
   "execution_count": null,
   "id": "982db293",
   "metadata": {},
   "outputs": [],
   "source": []
  }
 ],
 "metadata": {
  "kernelspec": {
   "display_name": "Python 3 (ipykernel)",
   "language": "python",
   "name": "python3"
  },
  "language_info": {
   "codemirror_mode": {
    "name": "ipython",
    "version": 3
   },
   "file_extension": ".py",
   "mimetype": "text/x-python",
   "name": "python",
   "nbconvert_exporter": "python",
   "pygments_lexer": "ipython3",
   "version": "3.9.13"
  }
 },
 "nbformat": 4,
 "nbformat_minor": 5
}
