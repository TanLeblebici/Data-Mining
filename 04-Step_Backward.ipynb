{
 "cells": [
  {
   "cell_type": "markdown",
   "id": "6d9ddcc2",
   "metadata": {},
   "source": [
    "# Step - Backward Feature selection"
   ]
  },
  {
   "cell_type": "markdown",
   "id": "dfe17c0c",
   "metadata": {},
   "source": [
    "# import libraries - datasets"
   ]
  },
  {
   "cell_type": "code",
   "execution_count": 1,
   "id": "64839f59",
   "metadata": {},
   "outputs": [],
   "source": [
    "import pandas as pd\n",
    "from sklearn.ensemble import RandomForestRegressor,RandomForestClassifier\n",
    "from sklearn.metrics import accuracy_score, roc_auc_score\n",
    "from sklearn.model_selection import train_test_split\n",
    "from mlxtend.feature_selection import SequentialFeatureSelector as SFS"
   ]
  },
  {
   "cell_type": "code",
   "execution_count": 2,
   "id": "b2f24bf0",
   "metadata": {},
   "outputs": [],
   "source": [
    "dataset1 = pd.read_csv(\"dataset_2.csv\")\n",
    "dataset2 = pd.read_csv(\"housing.csv\")"
   ]
  },
  {
   "cell_type": "code",
   "execution_count": 3,
   "id": "7d86e575",
   "metadata": {},
   "outputs": [
    {
     "data": {
      "text/plain": [
       "(50000, 109)"
      ]
     },
     "execution_count": 3,
     "metadata": {},
     "output_type": "execute_result"
    }
   ],
   "source": [
    "dataset1.shape"
   ]
  },
  {
   "cell_type": "code",
   "execution_count": 4,
   "id": "c586f568",
   "metadata": {},
   "outputs": [
    {
     "data": {
      "text/plain": [
       "(1460, 81)"
      ]
     },
     "execution_count": 4,
     "metadata": {},
     "output_type": "execute_result"
    }
   ],
   "source": [
    "dataset2.shape"
   ]
  },
  {
   "cell_type": "markdown",
   "id": "cdefd81c",
   "metadata": {},
   "source": [
    "## Seperate to train - test sets"
   ]
  },
  {
   "cell_type": "code",
   "execution_count": 5,
   "id": "20a5d819",
   "metadata": {},
   "outputs": [],
   "source": [
    "numerics = ['int64', 'float64']\n",
    "numerical_vars = list(dataset2.select_dtypes(include=numerics).columns)\n",
    "dataset2 = dataset2[numerical_vars]"
   ]
  },
  {
   "cell_type": "code",
   "execution_count": 6,
   "id": "41dfdcd6",
   "metadata": {},
   "outputs": [],
   "source": [
    "fs1 = dataset1.drop(labels=['target'], axis=1)\n",
    "fs2 = dataset2.drop(labels=['SalePrice'], axis=1)\n",
    "dv1 = dataset1['target']\n",
    "dv2 = dataset2['SalePrice']\n",
    "x_train, x_test, y_train, y_test = train_test_split(fs1,dv1,test_size=0.3,random_state=0)\n",
    "x_train2, x_test2, y_train2, y_test2 = train_test_split(fs2,dv2,test_size=0.3,random_state=0)"
   ]
  },
  {
   "cell_type": "code",
   "execution_count": 7,
   "id": "fe09dff2",
   "metadata": {},
   "outputs": [],
   "source": [
    "x_train2.fillna(0, inplace=True)\n",
    "x_test2.fillna(0, inplace=True)"
   ]
  },
  {
   "cell_type": "markdown",
   "id": "7316c3ce",
   "metadata": {},
   "source": [
    "## Step backward Feature selection for both datasets"
   ]
  },
  {
   "cell_type": "code",
   "execution_count": 8,
   "id": "aacdbc71",
   "metadata": {},
   "outputs": [
    {
     "name": "stderr",
     "output_type": "stream",
     "text": [
      "[Parallel(n_jobs=1)]: Using backend SequentialBackend with 1 concurrent workers.\n",
      "[Parallel(n_jobs=1)]: Done   1 out of   1 | elapsed:    1.5s remaining:    0.0s\n",
      "[Parallel(n_jobs=1)]: Done 108 out of 108 | elapsed:  2.7min finished\n",
      "\n",
      "[2024-03-11 16:09:24] Features: 107/105 -- score: 0.7290285714285714[Parallel(n_jobs=1)]: Using backend SequentialBackend with 1 concurrent workers.\n",
      "[Parallel(n_jobs=1)]: Done   1 out of   1 | elapsed:    1.5s remaining:    0.0s\n",
      "[Parallel(n_jobs=1)]: Done 107 out of 107 | elapsed:  2.7min finished\n",
      "\n",
      "[2024-03-11 16:12:05] Features: 106/105 -- score: 0.7298[Parallel(n_jobs=1)]: Using backend SequentialBackend with 1 concurrent workers.\n",
      "[Parallel(n_jobs=1)]: Done   1 out of   1 | elapsed:    1.5s remaining:    0.0s\n",
      "[Parallel(n_jobs=1)]: Done 106 out of 106 | elapsed:  2.7min finished\n",
      "\n",
      "[2024-03-11 16:14:45] Features: 105/105 -- score: 0.7299142857142857"
     ]
    }
   ],
   "source": [
    "sfs = SFS(RandomForestClassifier(n_estimators=10, n_jobs=4, random_state=0),\n",
    "          k_features=105,\n",
    "          forward=False,\n",
    "          floating=False,\n",
    "          verbose=2,\n",
    "          scoring='accuracy',\n",
    "          cv=2)\n",
    "\n",
    "sfs = sfs.fit(x_train, y_train)"
   ]
  },
  {
   "cell_type": "code",
   "execution_count": 9,
   "id": "53dc9053",
   "metadata": {},
   "outputs": [
    {
     "name": "stderr",
     "output_type": "stream",
     "text": [
      "[Parallel(n_jobs=1)]: Using backend SequentialBackend with 1 concurrent workers.\n",
      "[Parallel(n_jobs=1)]: Done   1 out of   1 | elapsed:    0.1s remaining:    0.0s\n",
      "[Parallel(n_jobs=1)]: Done  37 out of  37 | elapsed:    2.1s finished\n",
      "\n",
      "[2024-03-11 16:14:47] Features: 36/20 -- score: 0.8264413785481026[Parallel(n_jobs=1)]: Using backend SequentialBackend with 1 concurrent workers.\n",
      "[Parallel(n_jobs=1)]: Done   1 out of   1 | elapsed:    0.1s remaining:    0.0s\n",
      "[Parallel(n_jobs=1)]: Done  36 out of  36 | elapsed:    2.0s finished\n",
      "\n",
      "[2024-03-11 16:14:49] Features: 35/20 -- score: 0.8288924139651588[Parallel(n_jobs=1)]: Using backend SequentialBackend with 1 concurrent workers.\n",
      "[Parallel(n_jobs=1)]: Done   1 out of   1 | elapsed:    0.1s remaining:    0.0s\n",
      "[Parallel(n_jobs=1)]: Done  35 out of  35 | elapsed:    2.1s finished\n",
      "\n",
      "[2024-03-11 16:14:51] Features: 34/20 -- score: 0.8314722992772682[Parallel(n_jobs=1)]: Using backend SequentialBackend with 1 concurrent workers.\n",
      "[Parallel(n_jobs=1)]: Done   1 out of   1 | elapsed:    0.1s remaining:    0.0s\n",
      "[Parallel(n_jobs=1)]: Done  34 out of  34 | elapsed:    1.9s finished\n",
      "\n",
      "[2024-03-11 16:14:53] Features: 33/20 -- score: 0.8361498986524071[Parallel(n_jobs=1)]: Using backend SequentialBackend with 1 concurrent workers.\n",
      "[Parallel(n_jobs=1)]: Done   1 out of   1 | elapsed:    0.1s remaining:    0.0s\n",
      "[Parallel(n_jobs=1)]: Done  33 out of  33 | elapsed:    1.8s finished\n",
      "\n",
      "[2024-03-11 16:14:55] Features: 32/20 -- score: 0.8326618264975794[Parallel(n_jobs=1)]: Using backend SequentialBackend with 1 concurrent workers.\n",
      "[Parallel(n_jobs=1)]: Done   1 out of   1 | elapsed:    0.1s remaining:    0.0s\n",
      "[Parallel(n_jobs=1)]: Done  32 out of  32 | elapsed:    1.8s finished\n",
      "\n",
      "[2024-03-11 16:14:57] Features: 31/20 -- score: 0.8350962066737346[Parallel(n_jobs=1)]: Using backend SequentialBackend with 1 concurrent workers.\n",
      "[Parallel(n_jobs=1)]: Done   1 out of   1 | elapsed:    0.1s remaining:    0.0s\n",
      "[Parallel(n_jobs=1)]: Done  31 out of  31 | elapsed:    1.7s finished\n",
      "\n",
      "[2024-03-11 16:14:58] Features: 30/20 -- score: 0.8372496743544044[Parallel(n_jobs=1)]: Using backend SequentialBackend with 1 concurrent workers.\n",
      "[Parallel(n_jobs=1)]: Done   1 out of   1 | elapsed:    0.1s remaining:    0.0s\n",
      "[Parallel(n_jobs=1)]: Done  30 out of  30 | elapsed:    1.5s finished\n",
      "\n",
      "[2024-03-11 16:15:00] Features: 29/20 -- score: 0.8327133884061109[Parallel(n_jobs=1)]: Using backend SequentialBackend with 1 concurrent workers.\n",
      "[Parallel(n_jobs=1)]: Done   1 out of   1 | elapsed:    0.1s remaining:    0.0s\n",
      "[Parallel(n_jobs=1)]: Done  29 out of  29 | elapsed:    1.5s finished\n",
      "\n",
      "[2024-03-11 16:15:01] Features: 28/20 -- score: 0.834193582454118[Parallel(n_jobs=1)]: Using backend SequentialBackend with 1 concurrent workers.\n",
      "[Parallel(n_jobs=1)]: Done   1 out of   1 | elapsed:    0.1s remaining:    0.0s\n",
      "[Parallel(n_jobs=1)]: Done  28 out of  28 | elapsed:    1.4s finished\n",
      "\n",
      "[2024-03-11 16:15:03] Features: 27/20 -- score: 0.8399723146253494[Parallel(n_jobs=1)]: Using backend SequentialBackend with 1 concurrent workers.\n",
      "[Parallel(n_jobs=1)]: Done   1 out of   1 | elapsed:    0.0s remaining:    0.0s\n",
      "[Parallel(n_jobs=1)]: Done  27 out of  27 | elapsed:    1.3s finished\n",
      "\n",
      "[2024-03-11 16:15:04] Features: 26/20 -- score: 0.8358701723482871[Parallel(n_jobs=1)]: Using backend SequentialBackend with 1 concurrent workers.\n",
      "[Parallel(n_jobs=1)]: Done   1 out of   1 | elapsed:    0.1s remaining:    0.0s\n",
      "[Parallel(n_jobs=1)]: Done  26 out of  26 | elapsed:    1.3s finished\n",
      "\n",
      "[2024-03-11 16:15:05] Features: 25/20 -- score: 0.8453526792028259[Parallel(n_jobs=1)]: Using backend SequentialBackend with 1 concurrent workers.\n",
      "[Parallel(n_jobs=1)]: Done   1 out of   1 | elapsed:    0.1s remaining:    0.0s\n",
      "[Parallel(n_jobs=1)]: Done  25 out of  25 | elapsed:    1.3s finished\n",
      "\n",
      "[2024-03-11 16:15:07] Features: 24/20 -- score: 0.841332625830575[Parallel(n_jobs=1)]: Using backend SequentialBackend with 1 concurrent workers.\n",
      "[Parallel(n_jobs=1)]: Done   1 out of   1 | elapsed:    0.0s remaining:    0.0s\n",
      "[Parallel(n_jobs=1)]: Done  24 out of  24 | elapsed:    1.1s finished\n",
      "\n",
      "[2024-03-11 16:15:08] Features: 23/20 -- score: 0.846664274416233[Parallel(n_jobs=1)]: Using backend SequentialBackend with 1 concurrent workers.\n",
      "[Parallel(n_jobs=1)]: Done   1 out of   1 | elapsed:    0.0s remaining:    0.0s\n",
      "[Parallel(n_jobs=1)]: Done  23 out of  23 | elapsed:    1.1s finished\n",
      "\n",
      "[2024-03-11 16:15:09] Features: 22/20 -- score: 0.8484377213376976[Parallel(n_jobs=1)]: Using backend SequentialBackend with 1 concurrent workers.\n",
      "[Parallel(n_jobs=1)]: Done   1 out of   1 | elapsed:    0.1s remaining:    0.0s\n",
      "[Parallel(n_jobs=1)]: Done  22 out of  22 | elapsed:    1.0s finished\n",
      "\n",
      "[2024-03-11 16:15:10] Features: 21/20 -- score: 0.8406549971009378[Parallel(n_jobs=1)]: Using backend SequentialBackend with 1 concurrent workers.\n",
      "[Parallel(n_jobs=1)]: Done   1 out of   1 | elapsed:    0.0s remaining:    0.0s\n",
      "[Parallel(n_jobs=1)]: Done  21 out of  21 | elapsed:    1.0s finished\n",
      "\n",
      "[2024-03-11 16:15:11] Features: 20/20 -- score: 0.8432782310626843"
     ]
    }
   ],
   "source": [
    "sfs2 = SFS(RandomForestRegressor(n_estimators=10, n_jobs=4, random_state=10), \n",
    "           k_features=20, \n",
    "           forward=False, \n",
    "           floating=False, \n",
    "           verbose=2,\n",
    "           scoring='r2',\n",
    "           cv=2)\n",
    "\n",
    "sfs2 = sfs2.fit(x_train2, y_train2)"
   ]
  },
  {
   "cell_type": "code",
   "execution_count": 10,
   "id": "9071cfe5",
   "metadata": {},
   "outputs": [
    {
     "data": {
      "text/plain": [
       "('MSSubClass',\n",
       " 'LotArea',\n",
       " 'OverallQual',\n",
       " 'OverallCond',\n",
       " 'YearRemodAdd',\n",
       " 'BsmtFinSF1',\n",
       " '2ndFlrSF',\n",
       " 'LowQualFinSF',\n",
       " 'GrLivArea',\n",
       " 'BsmtFullBath',\n",
       " 'BsmtHalfBath',\n",
       " 'KitchenAbvGr',\n",
       " 'GarageYrBlt',\n",
       " 'GarageCars',\n",
       " 'GarageArea',\n",
       " 'OpenPorchSF',\n",
       " 'EnclosedPorch',\n",
       " '3SsnPorch',\n",
       " 'MoSold',\n",
       " 'YrSold')"
      ]
     },
     "execution_count": 10,
     "metadata": {},
     "output_type": "execute_result"
    }
   ],
   "source": [
    "sfs2.k_feature_names_"
   ]
  },
  {
   "cell_type": "code",
   "execution_count": null,
   "id": "6a61f468",
   "metadata": {},
   "outputs": [],
   "source": []
  }
 ],
 "metadata": {
  "kernelspec": {
   "display_name": "Python 3 (ipykernel)",
   "language": "python",
   "name": "python3"
  },
  "language_info": {
   "codemirror_mode": {
    "name": "ipython",
    "version": 3
   },
   "file_extension": ".py",
   "mimetype": "text/x-python",
   "name": "python",
   "nbconvert_exporter": "python",
   "pygments_lexer": "ipython3",
   "version": "3.9.13"
  }
 },
 "nbformat": 4,
 "nbformat_minor": 5
}
