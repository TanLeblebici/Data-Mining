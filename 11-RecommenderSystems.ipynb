{
 "cells": [
  {
   "cell_type": "markdown",
   "id": "0d9f3836",
   "metadata": {},
   "source": [
    "# Importing libraries"
   ]
  },
  {
   "cell_type": "code",
   "execution_count": 46,
   "id": "5fe006f3",
   "metadata": {},
   "outputs": [],
   "source": [
    "import pandas as pd\n",
    "from surprise import Dataset\n",
    "from surprise import Reader\n",
    "from surprise import KNNBasic\n",
    "from surprise.model_selection import cross_validate\n",
    "import matplotlib.pyplot as plt\n",
    "import numpy as np\n",
    "from libreco.algorithms import UserCF, ItemCF\n",
    "from libreco.data import split_by_ratio, DatasetPure\n",
    "from libreco.evaluation import evaluate\n",
    "from surprise.model_selection import train_test_split\n",
    "from surprise import accuracy"
   ]
  },
  {
   "cell_type": "markdown",
   "id": "ad2f7fc4",
   "metadata": {},
   "source": [
    "# Load the Movielens - 100k dataset"
   ]
  },
  {
   "cell_type": "code",
   "execution_count": 6,
   "id": "dcb4d7ef",
   "metadata": {},
   "outputs": [],
   "source": [
    "# Step 1: Load the MovieLens-100k Dataset\n",
    "data = Dataset.load_builtin('ml-100k')\n",
    "raw_ratings = data.raw_ratings\n",
    "ratings_df = pd.DataFrame(raw_ratings, columns=['user_id', 'movie_id', 'rating', 'timestamp'])"
   ]
  },
  {
   "cell_type": "code",
   "execution_count": 7,
   "id": "9bbcf3e5",
   "metadata": {},
   "outputs": [],
   "source": [
    "# Load the movie names\n",
    "movie_info = pd.read_csv('http://files.grouplens.org/datasets/movielens/ml-100k/u.item', sep='|', encoding='ISO-8859-1', header=None)\n",
    "movie_info = movie_info[[0, 1]]\n",
    "movie_info.columns = ['movie_id', 'movie_name']"
   ]
  },
  {
   "cell_type": "code",
   "execution_count": 8,
   "id": "2b3cac25",
   "metadata": {},
   "outputs": [],
   "source": [
    "# Step 2: Merge the Datasets\n",
    "ratings_df['movie_id'] = ratings_df['movie_id'].astype(int)\n",
    "movie_info['movie_id'] = movie_info['movie_id'].astype(int)\n",
    "merged_df = pd.merge(ratings_df, movie_info, on='movie_id')"
   ]
  },
  {
   "cell_type": "code",
   "execution_count": 9,
   "id": "575ffa4b",
   "metadata": {},
   "outputs": [
    {
     "data": {
      "text/html": [
       "<div>\n",
       "<style scoped>\n",
       "    .dataframe tbody tr th:only-of-type {\n",
       "        vertical-align: middle;\n",
       "    }\n",
       "\n",
       "    .dataframe tbody tr th {\n",
       "        vertical-align: top;\n",
       "    }\n",
       "\n",
       "    .dataframe thead th {\n",
       "        text-align: right;\n",
       "    }\n",
       "</style>\n",
       "<table border=\"1\" class=\"dataframe\">\n",
       "  <thead>\n",
       "    <tr style=\"text-align: right;\">\n",
       "      <th></th>\n",
       "      <th>user_id</th>\n",
       "      <th>movie_id</th>\n",
       "      <th>movie_name</th>\n",
       "      <th>rating</th>\n",
       "      <th>timestamp</th>\n",
       "    </tr>\n",
       "  </thead>\n",
       "  <tbody>\n",
       "    <tr>\n",
       "      <th>0</th>\n",
       "      <td>196</td>\n",
       "      <td>242</td>\n",
       "      <td>Kolya (1996)</td>\n",
       "      <td>3.0</td>\n",
       "      <td>881250949</td>\n",
       "    </tr>\n",
       "    <tr>\n",
       "      <th>1</th>\n",
       "      <td>63</td>\n",
       "      <td>242</td>\n",
       "      <td>Kolya (1996)</td>\n",
       "      <td>3.0</td>\n",
       "      <td>875747190</td>\n",
       "    </tr>\n",
       "    <tr>\n",
       "      <th>2</th>\n",
       "      <td>226</td>\n",
       "      <td>242</td>\n",
       "      <td>Kolya (1996)</td>\n",
       "      <td>5.0</td>\n",
       "      <td>883888671</td>\n",
       "    </tr>\n",
       "    <tr>\n",
       "      <th>3</th>\n",
       "      <td>154</td>\n",
       "      <td>242</td>\n",
       "      <td>Kolya (1996)</td>\n",
       "      <td>3.0</td>\n",
       "      <td>879138235</td>\n",
       "    </tr>\n",
       "    <tr>\n",
       "      <th>4</th>\n",
       "      <td>306</td>\n",
       "      <td>242</td>\n",
       "      <td>Kolya (1996)</td>\n",
       "      <td>5.0</td>\n",
       "      <td>876503793</td>\n",
       "    </tr>\n",
       "  </tbody>\n",
       "</table>\n",
       "</div>"
      ],
      "text/plain": [
       "  user_id  movie_id    movie_name  rating  timestamp\n",
       "0     196       242  Kolya (1996)     3.0  881250949\n",
       "1      63       242  Kolya (1996)     3.0  875747190\n",
       "2     226       242  Kolya (1996)     5.0  883888671\n",
       "3     154       242  Kolya (1996)     3.0  879138235\n",
       "4     306       242  Kolya (1996)     5.0  876503793"
      ]
     },
     "execution_count": 9,
     "metadata": {},
     "output_type": "execute_result"
    }
   ],
   "source": [
    "movie_ratings_df = merged_df[['user_id', 'movie_id', 'movie_name', 'rating', 'timestamp']]\n",
    "movie_ratings_df.head()"
   ]
  },
  {
   "cell_type": "markdown",
   "id": "4add030b",
   "metadata": {},
   "source": [
    "# User Based Collaborative Filtering with Surprise"
   ]
  },
  {
   "cell_type": "code",
   "execution_count": 47,
   "id": "d8ed124b",
   "metadata": {},
   "outputs": [
    {
     "name": "stdout",
     "output_type": "stream",
     "text": [
      "Computing the cosine similarity matrix...\n",
      "Done computing similarity matrix.\n",
      "RMSE: 1.0455\n",
      "MAE:  0.8235\n"
     ]
    }
   ],
   "source": [
    "userCF_algo = KNNBasic(k=10, sim_options={'name': 'cosine', 'user_based': True})\n",
    "trainset, testset = train_test_split(data, test_size=0.2)\n",
    "userCF_algo.fit(trainset)\n",
    "userCF_predictions = userCF_algo.test(testset)\n",
    "\n",
    "userCF_rmse = accuracy.rmse(userCF_predictions)\n",
    "userCF_mae = accuracy.mae(userCF_predictions)"
   ]
  },
  {
   "cell_type": "markdown",
   "id": "505dc4d8",
   "metadata": {},
   "source": [
    "# Item Based Collaborative Filtering with Surprise"
   ]
  },
  {
   "cell_type": "code",
   "execution_count": 48,
   "id": "c6b1e755",
   "metadata": {
    "scrolled": true
   },
   "outputs": [
    {
     "name": "stdout",
     "output_type": "stream",
     "text": [
      "Computing the cosine similarity matrix...\n",
      "Done computing similarity matrix.\n",
      "RMSE: 1.0994\n",
      "MAE:  0.8682\n"
     ]
    }
   ],
   "source": [
    "itemCF_algo = KNNBasic(k=10, sim_options={'name': 'cosine', 'user_based': False})\n",
    "itemCF_algo.fit(trainset)\n",
    "itemCF_predictions = itemCF_algo.test(testset)\n",
    "itemCF_rmse = accuracy.rmse(itemCF_predictions)\n",
    "itemCF_mae = accuracy.mae(itemCF_predictions)"
   ]
  },
  {
   "cell_type": "code",
   "execution_count": 54,
   "id": "19b358c6",
   "metadata": {},
   "outputs": [
    {
     "name": "stdout",
     "output_type": "stream",
     "text": [
      "    Model      RMSE       MAE\n",
      "0  UserCF  1.045528  0.823454\n",
      "1  ItemCF  1.099377  0.868154\n"
     ]
    }
   ],
   "source": [
    "# Create a DataFrame to hold the results\n",
    "results = {\n",
    "    'Model': ['UserCF', 'ItemCF'],\n",
    "    'RMSE': [userCF_rmse, itemCF_rmse],\n",
    "    'MAE': [userCF_mae, itemCF_mae]\n",
    "}\n",
    "results_df = pd.DataFrame(results)\n",
    "print(results_df)"
   ]
  },
  {
   "cell_type": "code",
   "execution_count": 56,
   "id": "fb02d411",
   "metadata": {},
   "outputs": [
    {
     "data": {
      "image/png": "[encoded data removed]",
      "text/plain": [
       "<Figure size 640x480 with 1 Axes>"
      ]
     },
     "metadata": {},
     "output_type": "display_data"
    }
   ],
   "source": [
    "# Plot the results\n",
    "# Plot RMSE\n",
    "plt.figure()\n",
    "plt.bar(results_df['Model'], results_df['RMSE'], alpha=0.6, label='RMSE')\n",
    "plt.xlabel('Model')\n",
    "plt.ylabel('RMSE')\n",
    "plt.title('RMSE for UserCF and ItemCF with Surprise')\n",
    "plt.show()"
   ]
  },
  {
   "cell_type": "code",
   "execution_count": 57,
   "id": "4d62abf5",
   "metadata": {},
   "outputs": [
    {
     "data": {
      "image/png": "[encoded data removed]",
      "text/plain": [
       "<Figure size 640x480 with 1 Axes>"
      ]
     },
     "metadata": {},
     "output_type": "display_data"
    }
   ],
   "source": [
    "# Plot MAE\n",
    "plt.figure()\n",
    "plt.bar(results_df['Model'], results_df['MAE'], alpha=0.6, label='MAE')\n",
    "plt.xlabel('Model')\n",
    "plt.ylabel('MAE')\n",
    "plt.title('MAE for UserCF and ItemCF with Surprise')\n",
    "plt.show()"
   ]
  },
  {
   "cell_type": "markdown",
   "id": "cf58a1b8",
   "metadata": {},
   "source": [
    "# Prepare the data for librecommender"
   ]
  },
  {
   "cell_type": "code",
   "execution_count": 58,
   "id": "cea2b6f3",
   "metadata": {},
   "outputs": [],
   "source": [
    "# Prepare data for LibRecommender\n",
    "user_item_rating_df = pd.DataFrame(user_item_rating, columns=['user', 'item', 'label'])"
   ]
  },
  {
   "cell_type": "code",
   "execution_count": 59,
   "id": "7445dd5d",
   "metadata": {},
   "outputs": [],
   "source": [
    "# Split the data using split_by_ratio\n",
    "train_data, test_data = split_by_ratio(user_item_rating_df, test_size=0.2)\n",
    "\n",
    "# Build the train and test sets\n",
    "train_data, data_info = DatasetPure.build_trainset(train_data)\n",
    "test_data = DatasetPure.build_testset(test_data)\n"
   ]
  },
  {
   "cell_type": "markdown",
   "id": "8c437d6a",
   "metadata": {},
   "source": [
    "# User Collaborative Filtering with LibRecommender"
   ]
  },
  {
   "cell_type": "code",
   "execution_count": 60,
   "id": "3dbdd54d",
   "metadata": {},
   "outputs": [
    {
     "data": {
      "text/plain": [
       "n_users: 943, n_items: 1183, data density: 7.1712 %"
      ]
     },
     "execution_count": 60,
     "metadata": {},
     "output_type": "execute_result"
    }
   ],
   "source": [
    "data_info"
   ]
  },
  {
   "cell_type": "code",
   "execution_count": 61,
   "id": "c5ab9ecf",
   "metadata": {},
   "outputs": [
    {
     "name": "stdout",
     "output_type": "stream",
     "text": [
      "Training start time: \u001b[35m2024-05-05 15:35:19\u001b[0m\n",
      "Final block size and num: (943, 1)\n",
      "sim_matrix elapsed: 0.025s\n",
      "sim_matrix, shape: (943, 943), num_elements: 852150, density: 95.8281 %\n"
     ]
    },
    {
     "name": "stderr",
     "output_type": "stream",
     "text": [
      "top_k: 100%|███████████████████████████████████████████████████████████████████████████████████████████████████████████████| 943/943 [00:00<00:00, 9182.17it/s]\n"
     ]
    }
   ],
   "source": [
    "# UserCF with LibRecommender\n",
    "userCF_model = UserCF(task=\"rating\", data_info=data_info, k_sim=10, sim_type=\"cosine\")\n",
    "userCF_model.fit(train_data,neg_sampling=False)"
   ]
  },
  {
   "cell_type": "code",
   "execution_count": 62,
   "id": "d61df5eb",
   "metadata": {},
   "outputs": [
    {
     "name": "stderr",
     "output_type": "stream",
     "text": [
      "eval_pointwise:  33%|████████████████████████████████████                                                                        | 1/3 [00:00<00:00,  5.53it/s]"
     ]
    },
    {
     "name": "stdout",
     "output_type": "stream",
     "text": [
      "\u001b[31mNo common interaction or similar neighbor for user 0 and item 244, proceed with default prediction\u001b[0m\n",
      "\u001b[31mNo common interaction or similar neighbor for user 0 and item 109, proceed with default prediction\u001b[0m\n",
      "\u001b[31mNo common interaction or similar neighbor for user 0 and item 34, proceed with default prediction\u001b[0m\n",
      "\u001b[31mNo common interaction or similar neighbor for user 0 and item 196, proceed with default prediction\u001b[0m\n",
      "\u001b[31mNo common interaction or similar neighbor for user 0 and item 183, proceed with default prediction\u001b[0m\n",
      "\u001b[31mNo common interaction or similar neighbor for user 0 and item 40, proceed with default prediction\u001b[0m\n"
     ]
    },
    {
     "name": "stderr",
     "output_type": "stream",
     "text": [
      "eval_pointwise: 100%|████████████████████████████████████████████████████████████████████████████████████████████████████████████| 3/3 [00:00<00:00,  8.12it/s]"
     ]
    },
    {
     "name": "stdout",
     "output_type": "stream",
     "text": [
      "UserCF Metrics with LibRecommender: {'rmse': 1.2041178244078892, 'mae': 0.978943618459463}\n"
     ]
    },
    {
     "name": "stderr",
     "output_type": "stream",
     "text": [
      "\n"
     ]
    }
   ],
   "source": [
    "userCF_metrics = evaluate(userCF_model, test_data,neg_sampling=False, metrics=[\"rmse\", \"mae\"])\n",
    "print(\"UserCF Metrics with LibRecommender:\", userCF_metrics)"
   ]
  },
  {
   "cell_type": "markdown",
   "id": "7a4c8380",
   "metadata": {},
   "source": [
    "# Item Collaborative Filtering with LibRecommender"
   ]
  },
  {
   "cell_type": "code",
   "execution_count": 63,
   "id": "6bab15e9",
   "metadata": {},
   "outputs": [
    {
     "name": "stdout",
     "output_type": "stream",
     "text": [
      "Training start time: \u001b[35m2024-05-05 15:35:35\u001b[0m\n",
      "Final block size and num: (1183, 1)\n",
      "sim_matrix elapsed: 0.027s\n",
      "sim_matrix, shape: (1183, 1183), num_elements: 994966, density: 111.8883 %\n"
     ]
    },
    {
     "name": "stderr",
     "output_type": "stream",
     "text": [
      "top_k: 100%|████████████████████████████████████████████████████████████████████████████████████████████████████████████| 1183/1183 [00:00<00:00, 10299.73it/s]\n",
      "eval_pointwise:   0%|                                                                                                                    | 0/3 [00:00<?, ?it/s]"
     ]
    },
    {
     "name": "stdout",
     "output_type": "stream",
     "text": [
      "\u001b[31mNo common interaction or similar neighbor for user 2 and item 260, proceed with default prediction\u001b[0m\n",
      "\u001b[31mNo common interaction or similar neighbor for user 2 and item 651, proceed with default prediction\u001b[0m\n",
      "\u001b[31mNo common interaction or similar neighbor for user 2 and item 331, proceed with default prediction\u001b[0m\n",
      "\u001b[31mNo common interaction or similar neighbor for user 2 and item 338, proceed with default prediction\u001b[0m\n",
      "\u001b[31mNo common interaction or similar neighbor for user 2 and item 815, proceed with default prediction\u001b[0m\n",
      "\u001b[31mNo common interaction or similar neighbor for user 2 and item 819, proceed with default prediction\u001b[0m\n"
     ]
    },
    {
     "name": "stderr",
     "output_type": "stream",
     "text": [
      "eval_pointwise: 100%|████████████████████████████████████████████████████████████████████████████████████████████████████████████| 3/3 [00:01<00:00,  2.90it/s]"
     ]
    },
    {
     "name": "stdout",
     "output_type": "stream",
     "text": [
      "ItemCF Metrics with LibRecommender: {'rmse': 1.2902053317157445, 'mae': 1.0063711598315965}\n"
     ]
    },
    {
     "name": "stderr",
     "output_type": "stream",
     "text": [
      "\n"
     ]
    }
   ],
   "source": [
    "# ItemCF with LibRecommender\n",
    "itemCF_model = ItemCF(task=\"rating\", data_info= data_info,k_sim=10, sim_type=\"cosine\")\n",
    "itemCF_model.fit(train_data, neg_sampling=False)\n",
    "itemCF_metrics = evaluate(itemCF_model, test_data,neg_sampling=False ,metrics=[\"rmse\", \"mae\"])\n",
    "print(\"ItemCF Metrics with LibRecommender:\", itemCF_metrics)"
   ]
  },
  {
   "cell_type": "code",
   "execution_count": 41,
   "id": "9c7d252a",
   "metadata": {},
   "outputs": [],
   "source": [
    "libreco_results = {\n",
    "    \"Model\": [\"UserCF\", \"ItemCF\"],\n",
    "    \"RMSE\": [userCF_metrics[\"rmse\"], itemCF_metrics[\"rmse\"]],\n",
    "    \"MAE\": [userCF_metrics[\"mae\"], itemCF_metrics[\"mae\"]],\n",
    "}"
   ]
  },
  {
   "cell_type": "code",
   "execution_count": 42,
   "id": "71b6fe8e",
   "metadata": {},
   "outputs": [
    {
     "data": {
      "text/html": [
       "<div>\n",
       "<style scoped>\n",
       "    .dataframe tbody tr th:only-of-type {\n",
       "        vertical-align: middle;\n",
       "    }\n",
       "\n",
       "    .dataframe tbody tr th {\n",
       "        vertical-align: top;\n",
       "    }\n",
       "\n",
       "    .dataframe thead th {\n",
       "        text-align: right;\n",
       "    }\n",
       "</style>\n",
       "<table border=\"1\" class=\"dataframe\">\n",
       "  <thead>\n",
       "    <tr style=\"text-align: right;\">\n",
       "      <th></th>\n",
       "      <th>Model</th>\n",
       "      <th>RMSE</th>\n",
       "      <th>MAE</th>\n",
       "    </tr>\n",
       "  </thead>\n",
       "  <tbody>\n",
       "    <tr>\n",
       "      <th>0</th>\n",
       "      <td>UserCF</td>\n",
       "      <td>1.204118</td>\n",
       "      <td>0.978944</td>\n",
       "    </tr>\n",
       "    <tr>\n",
       "      <th>1</th>\n",
       "      <td>ItemCF</td>\n",
       "      <td>1.290205</td>\n",
       "      <td>1.006371</td>\n",
       "    </tr>\n",
       "  </tbody>\n",
       "</table>\n",
       "</div>"
      ],
      "text/plain": [
       "    Model      RMSE       MAE\n",
       "0  UserCF  1.204118  0.978944\n",
       "1  ItemCF  1.290205  1.006371"
      ]
     },
     "execution_count": 42,
     "metadata": {},
     "output_type": "execute_result"
    }
   ],
   "source": [
    "libreco_df = pd.DataFrame(libreco_results)\n",
    "libreco_df"
   ]
  },
  {
   "cell_type": "code",
   "execution_count": 64,
   "id": "527cf3a7",
   "metadata": {},
   "outputs": [
    {
     "data": {
      "image/png": "[encoded data removed]",
      "text/plain": [
       "<Figure size 640x480 with 1 Axes>"
      ]
     },
     "metadata": {},
     "output_type": "display_data"
    },
    {
     "data": {
      "image/png": "[encoded data removed]",
      "text/plain": [
       "<Figure size 640x480 with 1 Axes>"
      ]
     },
     "metadata": {},
     "output_type": "display_data"
    }
   ],
   "source": [
    "# Plot RMSE\n",
    "plt.figure()\n",
    "plt.bar(libreco_df['Model'], libreco_df['RMSE'], alpha=0.6)\n",
    "plt.xlabel('Model')\n",
    "plt.ylabel('RMSE')\n",
    "plt.title('RMSE for UserCF and ItemCF with LibRecommender')\n",
    "plt.show()\n",
    "\n",
    "# Plot MAE\n",
    "plt.figure()\n",
    "plt.bar(libreco_df['Model'], libreco_df['MAE'], alpha=0.6)\n",
    "plt.xlabel('Model')\n",
    "plt.ylabel('MAE')\n",
    "plt.title('MAE for UserCF and ItemCF with LibRecommender')\n",
    "plt.show()"
   ]
  },
  {
   "cell_type": "markdown",
   "id": "bd3dfeed",
   "metadata": {},
   "source": [
    "# Now Combined Results"
   ]
  },
  {
   "cell_type": "code",
   "execution_count": 65,
   "id": "3ddbe276",
   "metadata": {},
   "outputs": [
    {
     "name": "stdout",
     "output_type": "stream",
     "text": [
      "                   Model      RMSE       MAE\n",
      "0        Surprise-UserCF  1.045528  0.823454\n",
      "1        Surprise-ItemCF  1.099377  0.868154\n",
      "2  LibRecommender-UserCF  1.204118  0.978944\n",
      "3  LibRecommender-ItemCF  1.290205  1.006371\n"
     ]
    }
   ],
   "source": [
    "combined_results = {\n",
    "    'Model': ['Surprise-UserCF', 'Surprise-ItemCF', 'LibRecommender-UserCF', 'LibRecommender-ItemCF'],\n",
    "    'RMSE': [userCF_rmse, itemCF_rmse, libreco_df.loc[0, 'RMSE'], libreco_df.loc[1, 'RMSE']],\n",
    "    'MAE': [userCF_mae, itemCF_mae, libreco_df.loc[0, 'MAE'], libreco_df.loc[1, 'MAE']]\n",
    "}\n",
    "combined_df = pd.DataFrame(combined_results)\n",
    "print(combined_df)"
   ]
  },
  {
   "cell_type": "markdown",
   "id": "974d21c4",
   "metadata": {},
   "source": [
    "# Plot the RMSE Plot"
   ]
  },
  {
   "cell_type": "code",
   "execution_count": 67,
   "id": "3f9f56f9",
   "metadata": {},
   "outputs": [
    {
     "data": {
      "image/png": "[encoded data removed]",
      "text/plain": [
       "<Figure size 1000x800 with 2 Axes>"
      ]
     },
     "metadata": {},
     "output_type": "display_data"
    }
   ],
   "source": [
    "# Plot the RMSE and MAE together for comparison\n",
    "fig, ax = plt.subplots(2, 1, figsize=(10, 8))\n",
    "\n",
    "# Plot RMSE\n",
    "ax[0].bar(combined_df['Model'], combined_df['RMSE'], alpha=0.6)\n",
    "ax[0].set_title('RMSE Comparison')\n",
    "ax[0].set_ylabel('RMSE')\n",
    "# Plot MAE\n",
    "ax[1].bar(combined_df['Model'], combined_df['MAE'], alpha=0.6, color='orange')\n",
    "ax[1].set_title('MAE Comparison')\n",
    "ax[1].set_ylabel('MAE')\n",
    "\n",
    "plt.tight_layout()\n",
    "plt.show()"
   ]
  },
  {
   "cell_type": "markdown",
   "id": "f56d8e51",
   "metadata": {},
   "source": [
    "## RMSE Comparison\n",
    "\n",
    "Root Mean Square Error (RMSE) is a measure of the differences between predicted values and observed values. It squares the errors before averaging, giving higher weight to larger errors. In this case:\n",
    "\n",
    "    The RMSE is slightly higher for both LibRecommender methods compared to Surprise methods.\n",
    "    Surprise-UserCF and Surprise-ItemCF have similar RMSE values, close to 1.0.\n",
    "    The RMSE for LibRecommender-UserCF and LibRecommender-ItemCF is slightly above 1.1.\n",
    "\n",
    "## Interpretation:\n",
    "\n",
    "    Lower RMSE is better.\n",
    "    The Surprise methods perform slightly better in terms of RMSE compared to the LibRecommender methods."
   ]
  },
  {
   "cell_type": "markdown",
   "id": "c2b77c9e",
   "metadata": {},
   "source": [
    "## MAE Comparison\n",
    "\n",
    "Mean Absolute Error (MAE) is a measure of the absolute differences between predicted values and observed values. It averages the absolute errors, providing a clear indication of the average magnitude of errors without squaring them. In this case:\n",
    "\n",
    "    All methods show similar MAE values, around 0.8 to 0.9.\n",
    "    Surprise-UserCF has the lowest MAE, while the other methods are slightly higher.\n",
    "\n",
    "## Interpretation:\n",
    "\n",
    "    Lower MAE is better.\n",
    "    All methods have comparable performance, but Surprise-UserCF has a slight advantage."
   ]
  },
  {
   "cell_type": "markdown",
   "id": "bbc2b791",
   "metadata": {},
   "source": [
    "Overall Interpretation\n",
    "\n",
    "    Performance:\n",
    "        Surprise generally performs better than LibRecommender, especially in terms of RMSE.\n",
    "        User-based and item-based collaborative filtering methods have comparable performance within each library.\n",
    "        The differences between the libraries and methods are not substantial, indicating both are reasonable approaches.\n",
    "    Recommendation:\n",
    "        If precision is crucial, Surprise might be a slightly better choice.\n",
    "        If both RMSE and MAE need to be minimized equally, Surprise-UserCF appears to be the best performing method."
   ]
  }
 ],
 "metadata": {
  "kernelspec": {
   "display_name": "Python 3 (ipykernel)",
   "language": "python",
   "name": "python3"
  },
  "language_info": {
   "codemirror_mode": {
    "name": "ipython",
    "version": 3
   },
   "file_extension": ".py",
   "mimetype": "text/x-python",
   "name": "python",
   "nbconvert_exporter": "python",
   "pygments_lexer": "ipython3",
   "version": "3.11.5"
  }
 },
 "nbformat": 4,
 "nbformat_minor": 5
}
