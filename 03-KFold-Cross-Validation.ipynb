{
 "cells": [
  {
   "cell_type": "markdown",
   "id": "0ec5a65f",
   "metadata": {},
   "source": [
    "# Importing libraries"
   ]
  },
  {
   "cell_type": "code",
   "execution_count": 1,
   "id": "41bf048e",
   "metadata": {},
   "outputs": [],
   "source": [
    "import numpy as np\n",
    "import pandas as pd"
   ]
  },
  {
   "cell_type": "code",
   "execution_count": 2,
   "id": "0c71aca9",
   "metadata": {},
   "outputs": [
    {
     "data": {
      "text/html": [
       "<div>\n",
       "<style scoped>\n",
       "    .dataframe tbody tr th:only-of-type {\n",
       "        vertical-align: middle;\n",
       "    }\n",
       "\n",
       "    .dataframe tbody tr th {\n",
       "        vertical-align: top;\n",
       "    }\n",
       "\n",
       "    .dataframe thead th {\n",
       "        text-align: right;\n",
       "    }\n",
       "</style>\n",
       "<table border=\"1\" class=\"dataframe\">\n",
       "  <thead>\n",
       "    <tr style=\"text-align: right;\">\n",
       "      <th></th>\n",
       "      <th>Country</th>\n",
       "      <th>Age</th>\n",
       "      <th>Salary</th>\n",
       "      <th>Purchased</th>\n",
       "    </tr>\n",
       "  </thead>\n",
       "  <tbody>\n",
       "    <tr>\n",
       "      <th>0</th>\n",
       "      <td>France</td>\n",
       "      <td>44.0</td>\n",
       "      <td>72000.0</td>\n",
       "      <td>No</td>\n",
       "    </tr>\n",
       "    <tr>\n",
       "      <th>1</th>\n",
       "      <td>Spain</td>\n",
       "      <td>27.0</td>\n",
       "      <td>48000.0</td>\n",
       "      <td>Yes</td>\n",
       "    </tr>\n",
       "    <tr>\n",
       "      <th>2</th>\n",
       "      <td>Germany</td>\n",
       "      <td>30.0</td>\n",
       "      <td>54000.0</td>\n",
       "      <td>No</td>\n",
       "    </tr>\n",
       "    <tr>\n",
       "      <th>3</th>\n",
       "      <td>Spain</td>\n",
       "      <td>38.0</td>\n",
       "      <td>61000.0</td>\n",
       "      <td>No</td>\n",
       "    </tr>\n",
       "    <tr>\n",
       "      <th>4</th>\n",
       "      <td>Germany</td>\n",
       "      <td>40.0</td>\n",
       "      <td>NaN</td>\n",
       "      <td>Yes</td>\n",
       "    </tr>\n",
       "    <tr>\n",
       "      <th>5</th>\n",
       "      <td>France</td>\n",
       "      <td>35.0</td>\n",
       "      <td>58000.0</td>\n",
       "      <td>Yes</td>\n",
       "    </tr>\n",
       "    <tr>\n",
       "      <th>6</th>\n",
       "      <td>Spain</td>\n",
       "      <td>NaN</td>\n",
       "      <td>52000.0</td>\n",
       "      <td>No</td>\n",
       "    </tr>\n",
       "    <tr>\n",
       "      <th>7</th>\n",
       "      <td>France</td>\n",
       "      <td>48.0</td>\n",
       "      <td>79000.0</td>\n",
       "      <td>Yes</td>\n",
       "    </tr>\n",
       "    <tr>\n",
       "      <th>8</th>\n",
       "      <td>Germany</td>\n",
       "      <td>50.0</td>\n",
       "      <td>83000.0</td>\n",
       "      <td>No</td>\n",
       "    </tr>\n",
       "    <tr>\n",
       "      <th>9</th>\n",
       "      <td>France</td>\n",
       "      <td>37.0</td>\n",
       "      <td>67000.0</td>\n",
       "      <td>Yes</td>\n",
       "    </tr>\n",
       "  </tbody>\n",
       "</table>\n",
       "</div>"
      ],
      "text/plain": [
       "   Country   Age   Salary Purchased\n",
       "0   France  44.0  72000.0        No\n",
       "1    Spain  27.0  48000.0       Yes\n",
       "2  Germany  30.0  54000.0        No\n",
       "3    Spain  38.0  61000.0        No\n",
       "4  Germany  40.0      NaN       Yes\n",
       "5   France  35.0  58000.0       Yes\n",
       "6    Spain   NaN  52000.0        No\n",
       "7   France  48.0  79000.0       Yes\n",
       "8  Germany  50.0  83000.0        No\n",
       "9   France  37.0  67000.0       Yes"
      ]
     },
     "execution_count": 2,
     "metadata": {},
     "output_type": "execute_result"
    }
   ],
   "source": [
    "dataset = pd.read_csv('data.csv')\n",
    "dataset"
   ]
  },
  {
   "cell_type": "code",
   "execution_count": 3,
   "id": "d59ec5c7",
   "metadata": {},
   "outputs": [],
   "source": [
    "x = dataset.iloc[:, :-1].values\n",
    "y = dataset.iloc[:, -1].values"
   ]
  },
  {
   "cell_type": "code",
   "execution_count": 4,
   "id": "eb331fda",
   "metadata": {},
   "outputs": [
    {
     "data": {
      "text/plain": [
       "array([['France', 44.0, 72000.0],\n",
       "       ['Spain', 27.0, 48000.0],\n",
       "       ['Germany', 30.0, 54000.0],\n",
       "       ['Spain', 38.0, 61000.0],\n",
       "       ['Germany', 40.0, nan],\n",
       "       ['France', 35.0, 58000.0],\n",
       "       ['Spain', nan, 52000.0],\n",
       "       ['France', 48.0, 79000.0],\n",
       "       ['Germany', 50.0, 83000.0],\n",
       "       ['France', 37.0, 67000.0]], dtype=object)"
      ]
     },
     "execution_count": 4,
     "metadata": {},
     "output_type": "execute_result"
    }
   ],
   "source": [
    "x"
   ]
  },
  {
   "cell_type": "code",
   "execution_count": 5,
   "id": "3f9bdba3",
   "metadata": {},
   "outputs": [
    {
     "data": {
      "text/plain": [
       "array(['No', 'Yes', 'No', 'No', 'Yes', 'Yes', 'No', 'Yes', 'No', 'Yes'],\n",
       "      dtype=object)"
      ]
     },
     "execution_count": 5,
     "metadata": {},
     "output_type": "execute_result"
    }
   ],
   "source": [
    "y"
   ]
  },
  {
   "cell_type": "markdown",
   "id": "5a916a60",
   "metadata": {},
   "source": [
    "## Taking care of the missing data"
   ]
  },
  {
   "cell_type": "code",
   "execution_count": 6,
   "id": "c37c45d4",
   "metadata": {},
   "outputs": [],
   "source": [
    "from sklearn.impute import SimpleImputer"
   ]
  },
  {
   "cell_type": "code",
   "execution_count": 7,
   "id": "8558a0a6",
   "metadata": {},
   "outputs": [],
   "source": [
    "imputer = SimpleImputer(missing_values = np.nan, strategy = 'mean')"
   ]
  },
  {
   "cell_type": "code",
   "execution_count": 8,
   "id": "73829f31",
   "metadata": {},
   "outputs": [],
   "source": [
    "imputer.fit(x[:, 1:3])\n",
    "x[:, 1:3] = imputer.transform(x[:, 1:3])"
   ]
  },
  {
   "cell_type": "code",
   "execution_count": 9,
   "id": "f1d10766",
   "metadata": {},
   "outputs": [
    {
     "data": {
      "text/plain": [
       "array([['France', 44.0, 72000.0],\n",
       "       ['Spain', 27.0, 48000.0],\n",
       "       ['Germany', 30.0, 54000.0],\n",
       "       ['Spain', 38.0, 61000.0],\n",
       "       ['Germany', 40.0, 63777.77777777778],\n",
       "       ['France', 35.0, 58000.0],\n",
       "       ['Spain', 38.77777777777778, 52000.0],\n",
       "       ['France', 48.0, 79000.0],\n",
       "       ['Germany', 50.0, 83000.0],\n",
       "       ['France', 37.0, 67000.0]], dtype=object)"
      ]
     },
     "execution_count": 9,
     "metadata": {},
     "output_type": "execute_result"
    }
   ],
   "source": [
    "x"
   ]
  },
  {
   "cell_type": "markdown",
   "id": "717b1844",
   "metadata": {},
   "source": [
    "## Transform the independent variables"
   ]
  },
  {
   "cell_type": "code",
   "execution_count": 10,
   "id": "9ae545a3",
   "metadata": {},
   "outputs": [],
   "source": [
    "from sklearn.compose import ColumnTransformer\n",
    "from sklearn.preprocessing import OneHotEncoder"
   ]
  },
  {
   "cell_type": "code",
   "execution_count": 11,
   "id": "f5f3a3f0",
   "metadata": {},
   "outputs": [],
   "source": [
    "ct = ColumnTransformer(transformers = [('encoder', OneHotEncoder(), [0])], \n",
    "                       remainder = 'passthrough')"
   ]
  },
  {
   "cell_type": "code",
   "execution_count": 12,
   "id": "43b60ab4",
   "metadata": {},
   "outputs": [
    {
     "data": {
      "text/plain": [
       "array([[1.0, 0.0, 0.0, 44.0, 72000.0],\n",
       "       [0.0, 0.0, 1.0, 27.0, 48000.0],\n",
       "       [0.0, 1.0, 0.0, 30.0, 54000.0],\n",
       "       [0.0, 0.0, 1.0, 38.0, 61000.0],\n",
       "       [0.0, 1.0, 0.0, 40.0, 63777.77777777778],\n",
       "       [1.0, 0.0, 0.0, 35.0, 58000.0],\n",
       "       [0.0, 0.0, 1.0, 38.77777777777778, 52000.0],\n",
       "       [1.0, 0.0, 0.0, 48.0, 79000.0],\n",
       "       [0.0, 1.0, 0.0, 50.0, 83000.0],\n",
       "       [1.0, 0.0, 0.0, 37.0, 67000.0]], dtype=object)"
      ]
     },
     "execution_count": 12,
     "metadata": {},
     "output_type": "execute_result"
    }
   ],
   "source": [
    "x = ct.fit_transform(x)\n",
    "x"
   ]
  },
  {
   "cell_type": "code",
   "execution_count": 13,
   "id": "7ea28f51",
   "metadata": {},
   "outputs": [
    {
     "data": {
      "text/plain": [
       "array([0, 1, 0, 0, 1, 1, 0, 1, 0, 1])"
      ]
     },
     "execution_count": 13,
     "metadata": {},
     "output_type": "execute_result"
    }
   ],
   "source": [
    "from sklearn.preprocessing import LabelEncoder\n",
    "le = LabelEncoder()\n",
    "y = le.fit_transform(y)\n",
    "y"
   ]
  },
  {
   "cell_type": "markdown",
   "id": "c5383596",
   "metadata": {},
   "source": [
    "# Data sampling with Kfold Cross Validation"
   ]
  },
  {
   "cell_type": "markdown",
   "id": "8ca26ba3",
   "metadata": {},
   "source": [
    "1. x_train\n",
    "2. x_test\n",
    "3. y_train\n",
    "4. y_test"
   ]
  },
  {
   "cell_type": "code",
   "execution_count": 16,
   "id": "da37abff",
   "metadata": {
    "scrolled": true
   },
   "outputs": [],
   "source": [
    "from sklearn.preprocessing import StandardScaler\n",
    "from sklearn.model_selection import KFold"
   ]
  },
  {
   "cell_type": "code",
   "execution_count": 17,
   "id": "7f132ee5",
   "metadata": {},
   "outputs": [],
   "source": [
    "kf = KFold(n_splits = 5, shuffle = True, random_state = 100)\n",
    "sc = StandardScaler()"
   ]
  },
  {
   "cell_type": "code",
   "execution_count": 18,
   "id": "4f536ef4",
   "metadata": {},
   "outputs": [
    {
     "name": "stdout",
     "output_type": "stream",
     "text": [
      "[[1.0 0.0 0.0 0.9275794157968308 0.8486580713459083]\n",
      " [0.0 0.0 1.0 -1.545965692994718 -1.5052442517451496]\n",
      " [0.0 1.0 0.0 -1.1094577326197388 -0.916768670972385]\n",
      " [0.0 0.0 1.0 0.054563495046872405 -0.2302138267374932]\n",
      " [0.0 1.0 0.0 0.34556880196352524 0.0422285717684166]\n",
      " [1.0 0.0 0.0 -0.38194446532810683 -0.5244516171238754]\n",
      " [0.0 1.0 0.0 1.8005953365467893 1.9275299694293098]\n",
      " [1.0 0.0 0.0 -0.090939158411454 0.3582617540352713]]\n",
      "----------------------------\n",
      "[[0.0 0.0 1.0 0.1677322255144597 -1.11292719789664]\n",
      " [1.0 0.0 0.0 1.5095900296301366 1.5352129155808003]]\n",
      "\n",
      "[[1.0 0.0 0.0 0.5441082159257143 0.532171171713203]\n",
      " [0.0 1.0 0.0 -1.7798794181976751 -1.200727920096623]\n",
      " [0.0 0.0 1.0 -0.45188648441288115 -0.5268227177261351]\n",
      " [0.0 1.0 0.0 -0.11988825096668267 -0.25940001837276655]\n",
      " [0.0 0.0 1.0 -0.32277606029491496 -1.3932722636310482]\n",
      " [1.0 0.0 0.0 1.2081046828181115 1.206076374083691]\n",
      " [0.0 1.0 0.0 1.5401029162643098 1.5911650611525412]\n",
      " [1.0 0.0 0.0 -0.6178856011359805 0.05081031287714027]]\n",
      "----------------------------\n",
      "[[0.0 0.0 1.0 -2.2778767683669727 -1.7783609506998983]\n",
      " [1.0 0.0 0.0 -0.949883834582179 -0.8156392330277727]]\n",
      "\n",
      "[[1.0 0.0 0.0 0.6143508384484168 0.5980503604017328]\n",
      " [0.0 0.0 1.0 -1.827095350710226 -1.4524080181184937]\n",
      " [0.0 0.0 1.0 -0.24733605184286894 -0.3417430630867044]\n",
      " [1.0 0.0 0.0 -0.6781794969885118 -0.5980503604017328]\n",
      " [0.0 0.0 1.0 -0.13563589939770215 -1.1106649550317893]\n",
      " [1.0 0.0 0.0 1.188808765309274 1.1961007208034655]\n",
      " [0.0 1.0 0.0 1.4760377287397026 1.5378437838901697]\n",
      " [1.0 0.0 0.0 -0.39095053355808324 0.1708715315433522]]\n",
      "----------------------------\n",
      "[[0.0 1.0 0.0 -1.3962519055645832 -0.9397934234884371]\n",
      " [0.0 1.0 0.0 0.039892911587559636 -0.10442149149871496]]\n",
      "\n",
      "[[0.0 0.0 1.0 -1.507714609141393 -1.2733759679472296]\n",
      " [0.0 1.0 0.0 -1.1046621888758723 -0.7673056660583581]\n",
      " [0.0 1.0 0.0 0.2388458786758644 0.057401492575358655]\n",
      " [1.0 0.0 0.0 -0.4329081551000039 -0.4299254647991105]\n",
      " [0.0 0.0 1.0 0.0746393370862078 -0.935995766687982]\n",
      " [1.0 0.0 0.0 1.3136523327172536 1.3413205918119397]\n",
      " [0.0 1.0 0.0 1.582353946227601 1.6787007930711875]\n",
      " [1.0 0.0 0.0 -0.16420654158965658 0.3291799880341968]]\n",
      "----------------------------\n",
      "[[1.0 0.0 0.0 0.776249105696559 0.7509052396082564]\n",
      " [0.0 0.0 1.0 -0.02985573483448293 -0.1768903138546747]]\n",
      "\n",
      "[[1.0 0.0 0.0 0.99195310407169 1.1308980938355184]\n",
      " [0.0 0.0 1.0 -1.6417792156327535 -1.3303007804060123]\n",
      " [0.0 1.0 0.0 -1.1770029239202047 -0.7150010618456295]\n",
      " [0.0 0.0 1.0 0.06240052064659233 0.0028486098081502514]\n",
      " [0.0 1.0 0.0 0.3722513817882916 0.28770959062314255]\n",
      " [1.0 0.0 0.0 -0.4023757710659565 -0.30480124947204107]\n",
      " [0.0 0.0 1.0 0.18289807775725328 -0.9201009680324238]\n",
      " [1.0 0.0 0.0 1.6116548263550885 1.8487477654892983]]\n",
      "----------------------------\n",
      "[[0.0 1.0 0.0 1.9215056874967877 2.258947577862887]\n",
      " [1.0 0.0 0.0 -0.09252490992425728 0.618148328368533]]\n",
      "\n"
     ]
    }
   ],
   "source": [
    "for train_index, test_index in kf.split(x):\n",
    "    x_train, x_test = x[train_index], x[test_index]\n",
    "    y_train, y_test = y[train_index], y[test_index]\n",
    "    x_train[:, 3:] = sc.fit_transform(x_train[:, 3:])\n",
    "    x_test[:, 3:] = sc.transform(x_test[:, 3:])\n",
    "    print(x_train)\n",
    "    print(\"----------------------------\")\n",
    "    print(x_test)\n",
    "    print(\"\")"
   ]
  }
 ],
 "metadata": {
  "kernelspec": {
   "display_name": "Python 3 (ipykernel)",
   "language": "python",
   "name": "python3"
  },
  "language_info": {
   "codemirror_mode": {
    "name": "ipython",
    "version": 3
   },
   "file_extension": ".py",
   "mimetype": "text/x-python",
   "name": "python",
   "nbconvert_exporter": "python",
   "pygments_lexer": "ipython3",
   "version": "3.9.13"
  }
 },
 "nbformat": 4,
 "nbformat_minor": 5
}
